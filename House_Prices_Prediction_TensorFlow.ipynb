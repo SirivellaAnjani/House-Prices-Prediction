{
  "cells": [
    {
      "cell_type": "markdown",
      "metadata": {
        "id": "view-in-github",
        "colab_type": "text"
      },
      "source": [
        "<a href=\"https://colab.research.google.com/github/SirivellaAnjani/House-Prices-Prediction-Using-TensorFlow/blob/main/House_Prices_Prediction_TensorFlow.ipynb\" target=\"_parent\"><img src=\"https://colab.research.google.com/assets/colab-badge.svg\" alt=\"Open In Colab\"/></a>"
      ]
    },
    {
      "cell_type": "markdown",
      "source": [
        "# **House Prices Prediction Using TensorFlow**"
      ],
      "metadata": {
        "id": "xNjkIK5eREiw"
      },
      "id": "xNjkIK5eREiw"
    },
    {
      "cell_type": "markdown",
      "id": "93fac775",
      "metadata": {
        "id": "93fac775"
      },
      "source": [
        "# Abstract\n",
        "\n",
        "The purpose of this notebook is to create a machine learning model that can accurately predict the sale price of houses in King County, Washington. In order to achieve this goal, regression techniques will be implemented to analyze a dataset containing house sale prices between May 2014 and May 2015. Additionally, k-cross fold validation will be utilized to ensure that the model produces reliable and accurate predictions. By developing a machine learning model capable of accurately predicting house sale prices, this project aims to provide valuable insights to home buyers and sellers in the King County area, and also serves as a useful tool for real estate professionals</body></div>"
      ]
    },
    {
      "cell_type": "markdown",
      "id": "165d349f",
      "metadata": {
        "id": "165d349f"
      },
      "source": [
        "# 1. Data Description"
      ]
    },
    {
      "cell_type": "markdown",
      "id": "23865737",
      "metadata": {
        "id": "23865737"
      },
      "source": [
        "There are 80 variables available for the prediction model to leverage. The variable I am trying to predict is called Label and the input variables for the mcahine learning model are called Features.\n",
        "\n",
        "**Label**\n",
        "\n",
        "SalePrice - the property's sale price in dollars.\n",
        "\n",
        "**Features**\n",
        "\n",
        "There are <em>79 features</em>. The complete details about every variable can be found in <a target=_blank href=\"https://github.com/SirivellaAnjani/House-Prices-Prediction/blob/1e6bc8b45a2561fbc60766d8805df6f33f4952e8/data/data_description.txt\">Data Description</a> text. \n",
        "Here is a brief description of each input variable:\n"
      ]
    },
    {
      "cell_type": "markdown",
      "id": "d9738bff",
      "metadata": {
        "id": "d9738bff"
      },
      "source": [
        "    \n",
        "| Input Variable | Description                                                    |\n",
        "|:---------------|:---------------------------------------------------------------|\n",
        "| MSSubClass     |  The building class                                            |\n",
        "| MSZoning       |  The general zoning classification                             |\n",
        "| LotFrontage    |  Linear feet of street connected to   property                 |\n",
        "| LotArea        |  Lot size in square feet                                       |\n",
        "| Street         |  Type of road access                                           |\n",
        "| Alley          |  Type of alley access                                          |\n",
        "| LotShape       |  General shape of property                                     |\n",
        "| LandContour    |  Flatness of the property                                      |\n",
        "| Utilities      |  Type of utilities available                                   |\n",
        "| LotConfig      |  Lot configuration                                             |\n",
        "| LandSlope      |  Slope of property                                             |\n",
        "| Neighborhood   |  Physical locations within Ames   city limits                  |\n",
        "| Condition1     |  Proximity to main road or railroad                            |\n",
        "| Condition2     |  Proximity to main road or railroad   (if a second is present) |\n",
        "| BldgType       |  Type of dwelling                                              |\n",
        "| HouseStyle     |  Style of dwelling                                             |\n",
        "| OverallQual    |  Overall material and finish   quality                         |\n",
        "| OverallCond    |  Overall condition rating                                      |\n",
        "| YearBuilt      |  Original construction date                                    |\n",
        "| YearRemodAdd   |  Remodel date                                                  |\n",
        "| RoofStyle      |  Type of roof                                                  |\n",
        "| RoofMatl       |  Roof material                                                 |\n",
        "| Exterior1st    |  Exterior covering on house                                    |\n",
        "| Exterior2nd    |  Exterior covering on house (if   more than one material)      |\n",
        "| MasVnrType     |  Masonry veneer type                                           |\n",
        "| MasVnrArea     |  Masonry veneer area in square feet                            |\n",
        "| ExterQual      |  Exterior material quality                                     |\n",
        "| ExterCond      |  Present condition of the material   on the exterior           |\n",
        "| Foundation     |  Type of foundation                                            |\n",
        "| BsmtQual       |  Height of the basement                                        |\n",
        "| BsmtCond       |  General condition of the basement                             |\n",
        "| BsmtExposure   |  Walkout or garden level basement   walls                      |\n",
        "| BsmtFinType1   |  Quality of basement finished area                             |\n",
        "| BsmtFinSF1     |  Type 1 finished square feet                                   |\n",
        "| BsmtFinType2   |  Quality of second finished area   (if present)                |\n",
        "| BsmtFinSF2     |  Type 2 finished square feet                                   |\n",
        "| BsmtUnfSF      |  Unfinished square feet of basement   area                     |\n",
        "| TotalBsmtSF    |  Total square feet of basement area                            |\n",
        "| Heating        |  Type of heating                                               |\n",
        "| HeatingQC      |  Heating quality and condition                                 |\n",
        "| CentralAir     |  Central air conditioning                                      |\n",
        "| Electrical     |  Electrical system                                             |\n",
        "| 1stFlrSF       |  First Floor square feet                                       |\n",
        "| 2ndFlrSF       |  Second floor square feet                                      |\n",
        "| LowQualFinSF   |  Low quality finished square feet   (all floors)               |\n",
        "| GrLivArea      |  Above grade (ground) living area   square feet                |\n",
        "| BsmtFullBath   |  Basement full bathrooms                                       |\n",
        "| BsmtHalfBath   |  Basement half bathrooms                                       |\n",
        "| FullBath       |  Full bathrooms above grade                                    |\n",
        "| HalfBath       |  Half baths above grade                                        |\n",
        "| Bedroom        |  Number of bedrooms above basement   level                     |\n",
        "| Kitchen        |  Number of kitchens                                            |\n",
        "| KitchenQual    |  Kitchen quality                                               |\n",
        "| TotRmsAbvGrd   |  Total rooms above grade (does not   include bathrooms)        |\n",
        "| Functional     |  Home functionality rating                                     |\n",
        "| Fireplaces     |  Number of fireplaces                                          |\n",
        "| FireplaceQu    |  Fireplace quality                                             |\n",
        "| GarageType     |  Garage location                                               |\n",
        "| GarageYrBlt    |  Year garage was built                                         |\n",
        "| GarageFinish   |  Interior finish of the garage                                 |\n",
        "| GarageCars     |  Size of garage in car capacity                                |\n",
        "| GarageArea     |  Size of garage in square feet                                 |\n",
        "| GarageQual     |  Garage quality                                                |\n",
        "| GarageCond     |  Garage condition                                              |\n",
        "| PavedDrive     |  Paved driveway                                                |\n",
        "| WoodDeckSF     |  Wood deck area in square feet                                 |\n",
        "| OpenPorchSF    |  Open porch area in square feet                                |\n",
        "| EnclosedPorch  |  Enclosed porch area in square feet                            |\n",
        "| 3SsnPorch      |  Three season porch area in square   feet                      |\n",
        "| ScreenPorch    |  Screen porch area in square feet                              |\n",
        "| PoolArea       |  Pool area in square feet                                      |\n",
        "| PoolQC         |  Pool quality                                                  |\n",
        "| Fence          |  Fence quality                                                 |\n",
        "| MiscFeature    |  Miscellaneous feature not covered   in other categories       |\n",
        "| MiscVal        |  Dollar value of miscellaneous feature                         |\n",
        "| MoSold         |  Month Sold                                                    |\n",
        "| YrSold         |  Year Sold                                                     |\n",
        "| SaleType       |  Type of sale                                                  |\n",
        "| SaleCondition  |  Condition of sale                                             |\n"
      ]
    },
    {
      "cell_type": "markdown",
      "id": "0f6736c9",
      "metadata": {
        "id": "0f6736c9"
      },
      "source": [
        "# 2. Exploratory Data Analysis"
      ]
    },
    {
      "cell_type": "markdown",
      "id": "097f8b9e",
      "metadata": {
        "id": "097f8b9e"
      },
      "source": [
        "Prior to importing the data, I will install the dependencies and import the libraries required for the analysis:"
      ]
    },
    {
      "cell_type": "code",
      "source": [
        "!pip install tensorflow_decision_forests"
      ],
      "metadata": {
        "id": "c8P9GO9vSIwx",
        "colab": {
          "base_uri": "https://localhost:8080/"
        },
        "outputId": "0bd86308-ad29-48ee-89b6-7476369d317d"
      },
      "id": "c8P9GO9vSIwx",
      "execution_count": 1,
      "outputs": [
        {
          "output_type": "stream",
          "name": "stdout",
          "text": [
            "Looking in indexes: https://pypi.org/simple, https://us-python.pkg.dev/colab-wheels/public/simple/\n",
            "Requirement already satisfied: tensorflow_decision_forests in /usr/local/lib/python3.10/dist-packages (1.3.0)\n",
            "Requirement already satisfied: wheel in /usr/local/lib/python3.10/dist-packages (from tensorflow_decision_forests) (0.40.0)\n",
            "Requirement already satisfied: six in /usr/local/lib/python3.10/dist-packages (from tensorflow_decision_forests) (1.16.0)\n",
            "Requirement already satisfied: tensorflow~=2.12.0 in /usr/local/lib/python3.10/dist-packages (from tensorflow_decision_forests) (2.12.0)\n",
            "Requirement already satisfied: wurlitzer in /usr/local/lib/python3.10/dist-packages (from tensorflow_decision_forests) (3.0.3)\n",
            "Requirement already satisfied: pandas in /usr/local/lib/python3.10/dist-packages (from tensorflow_decision_forests) (1.5.3)\n",
            "Requirement already satisfied: numpy in /usr/local/lib/python3.10/dist-packages (from tensorflow_decision_forests) (1.22.4)\n",
            "Requirement already satisfied: absl-py in /usr/local/lib/python3.10/dist-packages (from tensorflow_decision_forests) (1.4.0)\n",
            "Requirement already satisfied: tensorflow-io-gcs-filesystem>=0.23.1 in /usr/local/lib/python3.10/dist-packages (from tensorflow~=2.12.0->tensorflow_decision_forests) (0.32.0)\n",
            "Requirement already satisfied: astunparse>=1.6.0 in /usr/local/lib/python3.10/dist-packages (from tensorflow~=2.12.0->tensorflow_decision_forests) (1.6.3)\n",
            "Requirement already satisfied: packaging in /usr/local/lib/python3.10/dist-packages (from tensorflow~=2.12.0->tensorflow_decision_forests) (23.1)\n",
            "Requirement already satisfied: jax>=0.3.15 in /usr/local/lib/python3.10/dist-packages (from tensorflow~=2.12.0->tensorflow_decision_forests) (0.4.8)\n",
            "Requirement already satisfied: opt-einsum>=2.3.2 in /usr/local/lib/python3.10/dist-packages (from tensorflow~=2.12.0->tensorflow_decision_forests) (3.3.0)\n",
            "Requirement already satisfied: keras<2.13,>=2.12.0 in /usr/local/lib/python3.10/dist-packages (from tensorflow~=2.12.0->tensorflow_decision_forests) (2.12.0)\n",
            "Requirement already satisfied: setuptools in /usr/local/lib/python3.10/dist-packages (from tensorflow~=2.12.0->tensorflow_decision_forests) (67.7.2)\n",
            "Requirement already satisfied: wrapt<1.15,>=1.11.0 in /usr/local/lib/python3.10/dist-packages (from tensorflow~=2.12.0->tensorflow_decision_forests) (1.14.1)\n",
            "Requirement already satisfied: grpcio<2.0,>=1.24.3 in /usr/local/lib/python3.10/dist-packages (from tensorflow~=2.12.0->tensorflow_decision_forests) (1.54.0)\n",
            "Requirement already satisfied: h5py>=2.9.0 in /usr/local/lib/python3.10/dist-packages (from tensorflow~=2.12.0->tensorflow_decision_forests) (3.8.0)\n",
            "Requirement already satisfied: flatbuffers>=2.0 in /usr/local/lib/python3.10/dist-packages (from tensorflow~=2.12.0->tensorflow_decision_forests) (23.3.3)\n",
            "Requirement already satisfied: typing-extensions>=3.6.6 in /usr/local/lib/python3.10/dist-packages (from tensorflow~=2.12.0->tensorflow_decision_forests) (4.5.0)\n",
            "Requirement already satisfied: gast<=0.4.0,>=0.2.1 in /usr/local/lib/python3.10/dist-packages (from tensorflow~=2.12.0->tensorflow_decision_forests) (0.4.0)\n",
            "Requirement already satisfied: tensorboard<2.13,>=2.12 in /usr/local/lib/python3.10/dist-packages (from tensorflow~=2.12.0->tensorflow_decision_forests) (2.12.2)\n",
            "Requirement already satisfied: termcolor>=1.1.0 in /usr/local/lib/python3.10/dist-packages (from tensorflow~=2.12.0->tensorflow_decision_forests) (2.3.0)\n",
            "Requirement already satisfied: google-pasta>=0.1.1 in /usr/local/lib/python3.10/dist-packages (from tensorflow~=2.12.0->tensorflow_decision_forests) (0.2.0)\n",
            "Requirement already satisfied: libclang>=13.0.0 in /usr/local/lib/python3.10/dist-packages (from tensorflow~=2.12.0->tensorflow_decision_forests) (16.0.0)\n",
            "Requirement already satisfied: tensorflow-estimator<2.13,>=2.12.0 in /usr/local/lib/python3.10/dist-packages (from tensorflow~=2.12.0->tensorflow_decision_forests) (2.12.0)\n",
            "Requirement already satisfied: protobuf!=4.21.0,!=4.21.1,!=4.21.2,!=4.21.3,!=4.21.4,!=4.21.5,<5.0.0dev,>=3.20.3 in /usr/local/lib/python3.10/dist-packages (from tensorflow~=2.12.0->tensorflow_decision_forests) (3.20.3)\n",
            "Requirement already satisfied: pytz>=2020.1 in /usr/local/lib/python3.10/dist-packages (from pandas->tensorflow_decision_forests) (2022.7.1)\n",
            "Requirement already satisfied: python-dateutil>=2.8.1 in /usr/local/lib/python3.10/dist-packages (from pandas->tensorflow_decision_forests) (2.8.2)\n",
            "Requirement already satisfied: scipy>=1.7 in /usr/local/lib/python3.10/dist-packages (from jax>=0.3.15->tensorflow~=2.12.0->tensorflow_decision_forests) (1.10.1)\n",
            "Requirement already satisfied: ml-dtypes>=0.0.3 in /usr/local/lib/python3.10/dist-packages (from jax>=0.3.15->tensorflow~=2.12.0->tensorflow_decision_forests) (0.1.0)\n",
            "Requirement already satisfied: google-auth-oauthlib<1.1,>=0.5 in /usr/local/lib/python3.10/dist-packages (from tensorboard<2.13,>=2.12->tensorflow~=2.12.0->tensorflow_decision_forests) (1.0.0)\n",
            "Requirement already satisfied: werkzeug>=1.0.1 in /usr/local/lib/python3.10/dist-packages (from tensorboard<2.13,>=2.12->tensorflow~=2.12.0->tensorflow_decision_forests) (2.3.0)\n",
            "Requirement already satisfied: google-auth<3,>=1.6.3 in /usr/local/lib/python3.10/dist-packages (from tensorboard<2.13,>=2.12->tensorflow~=2.12.0->tensorflow_decision_forests) (2.17.3)\n",
            "Requirement already satisfied: markdown>=2.6.8 in /usr/local/lib/python3.10/dist-packages (from tensorboard<2.13,>=2.12->tensorflow~=2.12.0->tensorflow_decision_forests) (3.4.3)\n",
            "Requirement already satisfied: tensorboard-data-server<0.8.0,>=0.7.0 in /usr/local/lib/python3.10/dist-packages (from tensorboard<2.13,>=2.12->tensorflow~=2.12.0->tensorflow_decision_forests) (0.7.0)\n",
            "Requirement already satisfied: requests<3,>=2.21.0 in /usr/local/lib/python3.10/dist-packages (from tensorboard<2.13,>=2.12->tensorflow~=2.12.0->tensorflow_decision_forests) (2.27.1)\n",
            "Requirement already satisfied: tensorboard-plugin-wit>=1.6.0 in /usr/local/lib/python3.10/dist-packages (from tensorboard<2.13,>=2.12->tensorflow~=2.12.0->tensorflow_decision_forests) (1.8.1)\n",
            "Requirement already satisfied: cachetools<6.0,>=2.0.0 in /usr/local/lib/python3.10/dist-packages (from google-auth<3,>=1.6.3->tensorboard<2.13,>=2.12->tensorflow~=2.12.0->tensorflow_decision_forests) (5.3.0)\n",
            "Requirement already satisfied: pyasn1-modules>=0.2.1 in /usr/local/lib/python3.10/dist-packages (from google-auth<3,>=1.6.3->tensorboard<2.13,>=2.12->tensorflow~=2.12.0->tensorflow_decision_forests) (0.3.0)\n",
            "Requirement already satisfied: rsa<5,>=3.1.4 in /usr/local/lib/python3.10/dist-packages (from google-auth<3,>=1.6.3->tensorboard<2.13,>=2.12->tensorflow~=2.12.0->tensorflow_decision_forests) (4.9)\n",
            "Requirement already satisfied: requests-oauthlib>=0.7.0 in /usr/local/lib/python3.10/dist-packages (from google-auth-oauthlib<1.1,>=0.5->tensorboard<2.13,>=2.12->tensorflow~=2.12.0->tensorflow_decision_forests) (1.3.1)\n",
            "Requirement already satisfied: urllib3<1.27,>=1.21.1 in /usr/local/lib/python3.10/dist-packages (from requests<3,>=2.21.0->tensorboard<2.13,>=2.12->tensorflow~=2.12.0->tensorflow_decision_forests) (1.26.15)\n",
            "Requirement already satisfied: idna<4,>=2.5 in /usr/local/lib/python3.10/dist-packages (from requests<3,>=2.21.0->tensorboard<2.13,>=2.12->tensorflow~=2.12.0->tensorflow_decision_forests) (3.4)\n",
            "Requirement already satisfied: charset-normalizer~=2.0.0 in /usr/local/lib/python3.10/dist-packages (from requests<3,>=2.21.0->tensorboard<2.13,>=2.12->tensorflow~=2.12.0->tensorflow_decision_forests) (2.0.12)\n",
            "Requirement already satisfied: certifi>=2017.4.17 in /usr/local/lib/python3.10/dist-packages (from requests<3,>=2.21.0->tensorboard<2.13,>=2.12->tensorflow~=2.12.0->tensorflow_decision_forests) (2022.12.7)\n",
            "Requirement already satisfied: MarkupSafe>=2.1.1 in /usr/local/lib/python3.10/dist-packages (from werkzeug>=1.0.1->tensorboard<2.13,>=2.12->tensorflow~=2.12.0->tensorflow_decision_forests) (2.1.2)\n",
            "Requirement already satisfied: pyasn1<0.6.0,>=0.4.6 in /usr/local/lib/python3.10/dist-packages (from pyasn1-modules>=0.2.1->google-auth<3,>=1.6.3->tensorboard<2.13,>=2.12->tensorflow~=2.12.0->tensorflow_decision_forests) (0.5.0)\n",
            "Requirement already satisfied: oauthlib>=3.0.0 in /usr/local/lib/python3.10/dist-packages (from requests-oauthlib>=0.7.0->google-auth-oauthlib<1.1,>=0.5->tensorboard<2.13,>=2.12->tensorflow~=2.12.0->tensorflow_decision_forests) (3.2.2)\n"
          ]
        }
      ]
    },
    {
      "cell_type": "code",
      "execution_count": 2,
      "id": "ced306e6",
      "metadata": {
        "id": "ced306e6"
      },
      "outputs": [],
      "source": [
        "#  Data Manipulation\n",
        "import numpy as np\n",
        "import pandas as pd\n",
        "\n",
        "# Data Visualization\n",
        "import seaborn as sns\n",
        "import matplotlib.pyplot as plt\n",
        "\n",
        "\n",
        "# Algorithms\n",
        "import tensorflow as tf\n",
        "import tensorflow_decision_forests as tfdf"
      ]
    },
    {
      "cell_type": "code",
      "execution_count": 3,
      "id": "3d07f5a5",
      "metadata": {
        "colab": {
          "base_uri": "https://localhost:8080/"
        },
        "id": "3d07f5a5",
        "outputId": "5de5b6b3-ad4f-4b6b-aefe-f136b2a4fd3d"
      },
      "outputs": [
        {
          "output_type": "stream",
          "name": "stdout",
          "text": [
            "TensorFlow v2.12.0\n",
            "TensorFlow Decision Forests v1.3.0\n"
          ]
        }
      ],
      "source": [
        "print(\"TensorFlow v\" + tf.__version__)\n",
        "print(\"TensorFlow Decision Forests v\" + tfdf.__version__)"
      ]
    },
    {
      "cell_type": "markdown",
      "id": "e00208be",
      "metadata": {
        "id": "e00208be"
      },
      "source": [
        "## 2.1 Load and Inspect Data\n"
      ]
    },
    {
      "cell_type": "code",
      "execution_count": 6,
      "id": "e94a2d22",
      "metadata": {
        "colab": {
          "base_uri": "https://localhost:8080/",
          "height": 299
        },
        "id": "e94a2d22",
        "outputId": "984af5fd-0bef-4966-9e23-0b5cbf322919"
      },
      "outputs": [
        {
          "output_type": "execute_result",
          "data": {
            "text/plain": [
              "   Id  MSSubClass MSZoning  LotFrontage  LotArea Street Alley LotShape  \\\n",
              "0   1          60       RL         65.0     8450   Pave   NaN      Reg   \n",
              "1   2          20       RL         80.0     9600   Pave   NaN      Reg   \n",
              "2   3          60       RL         68.0    11250   Pave   NaN      IR1   \n",
              "3   4          70       RL         60.0     9550   Pave   NaN      IR1   \n",
              "4   5          60       RL         84.0    14260   Pave   NaN      IR1   \n",
              "\n",
              "  LandContour Utilities  ... PoolArea PoolQC Fence MiscFeature MiscVal MoSold  \\\n",
              "0         Lvl    AllPub  ...        0    NaN   NaN         NaN       0      2   \n",
              "1         Lvl    AllPub  ...        0    NaN   NaN         NaN       0      5   \n",
              "2         Lvl    AllPub  ...        0    NaN   NaN         NaN       0      9   \n",
              "3         Lvl    AllPub  ...        0    NaN   NaN         NaN       0      2   \n",
              "4         Lvl    AllPub  ...        0    NaN   NaN         NaN       0     12   \n",
              "\n",
              "  YrSold  SaleType  SaleCondition  SalePrice  \n",
              "0   2008        WD         Normal     208500  \n",
              "1   2007        WD         Normal     181500  \n",
              "2   2008        WD         Normal     223500  \n",
              "3   2006        WD        Abnorml     140000  \n",
              "4   2008        WD         Normal     250000  \n",
              "\n",
              "[5 rows x 81 columns]"
            ],
            "text/html": [
              "\n",
              "  <div id=\"df-a0fd1a1a-3d6d-4de0-a6a5-a1dc4a276c1e\">\n",
              "    <div class=\"colab-df-container\">\n",
              "      <div>\n",
              "<style scoped>\n",
              "    .dataframe tbody tr th:only-of-type {\n",
              "        vertical-align: middle;\n",
              "    }\n",
              "\n",
              "    .dataframe tbody tr th {\n",
              "        vertical-align: top;\n",
              "    }\n",
              "\n",
              "    .dataframe thead th {\n",
              "        text-align: right;\n",
              "    }\n",
              "</style>\n",
              "<table border=\"1\" class=\"dataframe\">\n",
              "  <thead>\n",
              "    <tr style=\"text-align: right;\">\n",
              "      <th></th>\n",
              "      <th>Id</th>\n",
              "      <th>MSSubClass</th>\n",
              "      <th>MSZoning</th>\n",
              "      <th>LotFrontage</th>\n",
              "      <th>LotArea</th>\n",
              "      <th>Street</th>\n",
              "      <th>Alley</th>\n",
              "      <th>LotShape</th>\n",
              "      <th>LandContour</th>\n",
              "      <th>Utilities</th>\n",
              "      <th>...</th>\n",
              "      <th>PoolArea</th>\n",
              "      <th>PoolQC</th>\n",
              "      <th>Fence</th>\n",
              "      <th>MiscFeature</th>\n",
              "      <th>MiscVal</th>\n",
              "      <th>MoSold</th>\n",
              "      <th>YrSold</th>\n",
              "      <th>SaleType</th>\n",
              "      <th>SaleCondition</th>\n",
              "      <th>SalePrice</th>\n",
              "    </tr>\n",
              "  </thead>\n",
              "  <tbody>\n",
              "    <tr>\n",
              "      <th>0</th>\n",
              "      <td>1</td>\n",
              "      <td>60</td>\n",
              "      <td>RL</td>\n",
              "      <td>65.0</td>\n",
              "      <td>8450</td>\n",
              "      <td>Pave</td>\n",
              "      <td>NaN</td>\n",
              "      <td>Reg</td>\n",
              "      <td>Lvl</td>\n",
              "      <td>AllPub</td>\n",
              "      <td>...</td>\n",
              "      <td>0</td>\n",
              "      <td>NaN</td>\n",
              "      <td>NaN</td>\n",
              "      <td>NaN</td>\n",
              "      <td>0</td>\n",
              "      <td>2</td>\n",
              "      <td>2008</td>\n",
              "      <td>WD</td>\n",
              "      <td>Normal</td>\n",
              "      <td>208500</td>\n",
              "    </tr>\n",
              "    <tr>\n",
              "      <th>1</th>\n",
              "      <td>2</td>\n",
              "      <td>20</td>\n",
              "      <td>RL</td>\n",
              "      <td>80.0</td>\n",
              "      <td>9600</td>\n",
              "      <td>Pave</td>\n",
              "      <td>NaN</td>\n",
              "      <td>Reg</td>\n",
              "      <td>Lvl</td>\n",
              "      <td>AllPub</td>\n",
              "      <td>...</td>\n",
              "      <td>0</td>\n",
              "      <td>NaN</td>\n",
              "      <td>NaN</td>\n",
              "      <td>NaN</td>\n",
              "      <td>0</td>\n",
              "      <td>5</td>\n",
              "      <td>2007</td>\n",
              "      <td>WD</td>\n",
              "      <td>Normal</td>\n",
              "      <td>181500</td>\n",
              "    </tr>\n",
              "    <tr>\n",
              "      <th>2</th>\n",
              "      <td>3</td>\n",
              "      <td>60</td>\n",
              "      <td>RL</td>\n",
              "      <td>68.0</td>\n",
              "      <td>11250</td>\n",
              "      <td>Pave</td>\n",
              "      <td>NaN</td>\n",
              "      <td>IR1</td>\n",
              "      <td>Lvl</td>\n",
              "      <td>AllPub</td>\n",
              "      <td>...</td>\n",
              "      <td>0</td>\n",
              "      <td>NaN</td>\n",
              "      <td>NaN</td>\n",
              "      <td>NaN</td>\n",
              "      <td>0</td>\n",
              "      <td>9</td>\n",
              "      <td>2008</td>\n",
              "      <td>WD</td>\n",
              "      <td>Normal</td>\n",
              "      <td>223500</td>\n",
              "    </tr>\n",
              "    <tr>\n",
              "      <th>3</th>\n",
              "      <td>4</td>\n",
              "      <td>70</td>\n",
              "      <td>RL</td>\n",
              "      <td>60.0</td>\n",
              "      <td>9550</td>\n",
              "      <td>Pave</td>\n",
              "      <td>NaN</td>\n",
              "      <td>IR1</td>\n",
              "      <td>Lvl</td>\n",
              "      <td>AllPub</td>\n",
              "      <td>...</td>\n",
              "      <td>0</td>\n",
              "      <td>NaN</td>\n",
              "      <td>NaN</td>\n",
              "      <td>NaN</td>\n",
              "      <td>0</td>\n",
              "      <td>2</td>\n",
              "      <td>2006</td>\n",
              "      <td>WD</td>\n",
              "      <td>Abnorml</td>\n",
              "      <td>140000</td>\n",
              "    </tr>\n",
              "    <tr>\n",
              "      <th>4</th>\n",
              "      <td>5</td>\n",
              "      <td>60</td>\n",
              "      <td>RL</td>\n",
              "      <td>84.0</td>\n",
              "      <td>14260</td>\n",
              "      <td>Pave</td>\n",
              "      <td>NaN</td>\n",
              "      <td>IR1</td>\n",
              "      <td>Lvl</td>\n",
              "      <td>AllPub</td>\n",
              "      <td>...</td>\n",
              "      <td>0</td>\n",
              "      <td>NaN</td>\n",
              "      <td>NaN</td>\n",
              "      <td>NaN</td>\n",
              "      <td>0</td>\n",
              "      <td>12</td>\n",
              "      <td>2008</td>\n",
              "      <td>WD</td>\n",
              "      <td>Normal</td>\n",
              "      <td>250000</td>\n",
              "    </tr>\n",
              "  </tbody>\n",
              "</table>\n",
              "<p>5 rows × 81 columns</p>\n",
              "</div>\n",
              "      <button class=\"colab-df-convert\" onclick=\"convertToInteractive('df-a0fd1a1a-3d6d-4de0-a6a5-a1dc4a276c1e')\"\n",
              "              title=\"Convert this dataframe to an interactive table.\"\n",
              "              style=\"display:none;\">\n",
              "        \n",
              "  <svg xmlns=\"http://www.w3.org/2000/svg\" height=\"24px\"viewBox=\"0 0 24 24\"\n",
              "       width=\"24px\">\n",
              "    <path d=\"M0 0h24v24H0V0z\" fill=\"none\"/>\n",
              "    <path d=\"M18.56 5.44l.94 2.06.94-2.06 2.06-.94-2.06-.94-.94-2.06-.94 2.06-2.06.94zm-11 1L8.5 8.5l.94-2.06 2.06-.94-2.06-.94L8.5 2.5l-.94 2.06-2.06.94zm10 10l.94 2.06.94-2.06 2.06-.94-2.06-.94-.94-2.06-.94 2.06-2.06.94z\"/><path d=\"M17.41 7.96l-1.37-1.37c-.4-.4-.92-.59-1.43-.59-.52 0-1.04.2-1.43.59L10.3 9.45l-7.72 7.72c-.78.78-.78 2.05 0 2.83L4 21.41c.39.39.9.59 1.41.59.51 0 1.02-.2 1.41-.59l7.78-7.78 2.81-2.81c.8-.78.8-2.07 0-2.86zM5.41 20L4 18.59l7.72-7.72 1.47 1.35L5.41 20z\"/>\n",
              "  </svg>\n",
              "      </button>\n",
              "      \n",
              "  <style>\n",
              "    .colab-df-container {\n",
              "      display:flex;\n",
              "      flex-wrap:wrap;\n",
              "      gap: 12px;\n",
              "    }\n",
              "\n",
              "    .colab-df-convert {\n",
              "      background-color: #E8F0FE;\n",
              "      border: none;\n",
              "      border-radius: 50%;\n",
              "      cursor: pointer;\n",
              "      display: none;\n",
              "      fill: #1967D2;\n",
              "      height: 32px;\n",
              "      padding: 0 0 0 0;\n",
              "      width: 32px;\n",
              "    }\n",
              "\n",
              "    .colab-df-convert:hover {\n",
              "      background-color: #E2EBFA;\n",
              "      box-shadow: 0px 1px 2px rgba(60, 64, 67, 0.3), 0px 1px 3px 1px rgba(60, 64, 67, 0.15);\n",
              "      fill: #174EA6;\n",
              "    }\n",
              "\n",
              "    [theme=dark] .colab-df-convert {\n",
              "      background-color: #3B4455;\n",
              "      fill: #D2E3FC;\n",
              "    }\n",
              "\n",
              "    [theme=dark] .colab-df-convert:hover {\n",
              "      background-color: #434B5C;\n",
              "      box-shadow: 0px 1px 3px 1px rgba(0, 0, 0, 0.15);\n",
              "      filter: drop-shadow(0px 1px 2px rgba(0, 0, 0, 0.3));\n",
              "      fill: #FFFFFF;\n",
              "    }\n",
              "  </style>\n",
              "\n",
              "      <script>\n",
              "        const buttonEl =\n",
              "          document.querySelector('#df-a0fd1a1a-3d6d-4de0-a6a5-a1dc4a276c1e button.colab-df-convert');\n",
              "        buttonEl.style.display =\n",
              "          google.colab.kernel.accessAllowed ? 'block' : 'none';\n",
              "\n",
              "        async function convertToInteractive(key) {\n",
              "          const element = document.querySelector('#df-a0fd1a1a-3d6d-4de0-a6a5-a1dc4a276c1e');\n",
              "          const dataTable =\n",
              "            await google.colab.kernel.invokeFunction('convertToInteractive',\n",
              "                                                     [key], {});\n",
              "          if (!dataTable) return;\n",
              "\n",
              "          const docLinkHtml = 'Like what you see? Visit the ' +\n",
              "            '<a target=\"_blank\" href=https://colab.research.google.com/notebooks/data_table.ipynb>data table notebook</a>'\n",
              "            + ' to learn more about interactive tables.';\n",
              "          element.innerHTML = '';\n",
              "          dataTable['output_type'] = 'display_data';\n",
              "          await google.colab.output.renderOutput(dataTable, element);\n",
              "          const docLink = document.createElement('div');\n",
              "          docLink.innerHTML = docLinkHtml;\n",
              "          element.appendChild(docLink);\n",
              "        }\n",
              "      </script>\n",
              "    </div>\n",
              "  </div>\n",
              "  "
            ]
          },
          "metadata": {},
          "execution_count": 6
        }
      ],
      "source": [
        "df = pd.read_csv(\"https://raw.githubusercontent.com/SirivellaAnjani/House-Prices-Prediction-Using-TensorFlow/main/data/train.csv\")\n",
        "df.head()"
      ]
    },
    {
      "cell_type": "code",
      "execution_count": null,
      "id": "2cfbc436",
      "metadata": {
        "id": "2cfbc436"
      },
      "outputs": [],
      "source": [
        "df.shape"
      ]
    },
    {
      "cell_type": "markdown",
      "source": [
        "Dropping Id column as it is unnecessary for training the machine learning model."
      ],
      "metadata": {
        "id": "wUiR4dxnY0xE"
      },
      "id": "wUiR4dxnY0xE"
    },
    {
      "cell_type": "code",
      "source": [
        "df = df.drop('Id', axis=1)"
      ],
      "metadata": {
        "id": "abXI83yBVdlS"
      },
      "id": "abXI83yBVdlS",
      "execution_count": null,
      "outputs": []
    },
    {
      "cell_type": "code",
      "source": [
        "print(df.shape)\n",
        "df.sample(5)"
      ],
      "metadata": {
        "id": "GufF54NpZA4M"
      },
      "id": "GufF54NpZA4M",
      "execution_count": null,
      "outputs": []
    },
    {
      "cell_type": "markdown",
      "id": "bbc1a117",
      "metadata": {
        "id": "bbc1a117"
      },
      "source": [
        "## 2.2 Exploratory Data Analysis"
      ]
    },
    {
      "cell_type": "markdown",
      "source": [
        "**Distribution of Label (Price)**"
      ],
      "metadata": {
        "id": "ZTq6_8N3WtO7"
      },
      "id": "ZTq6_8N3WtO7"
    },
    {
      "cell_type": "code",
      "source": [
        "print(df['SalePrice'].describe())\n",
        "plt.figure(figsize=(9, 8))\n",
        "sns.distplot(df['SalePrice'], color='b', bins=100, hist_kws={'alpha': 0.4});"
      ],
      "metadata": {
        "id": "3PduJo_tWQDj"
      },
      "id": "3PduJo_tWQDj",
      "execution_count": null,
      "outputs": []
    },
    {
      "cell_type": "markdown",
      "source": [
        "**Distribution of Numerical Features**"
      ],
      "metadata": {
        "id": "-rTr_XUTW9tp"
      },
      "id": "-rTr_XUTW9tp"
    },
    {
      "cell_type": "code",
      "source": [
        "list(set(df.dtypes.tolist()))\n",
        "\n",
        "df_num = df.select_dtypes(include = ['float64', 'int64'])\n",
        "df_num.hist(figsize=(20, 20), color='b', bins=50, xlabelsize=8, ylabelsize=8);"
      ],
      "metadata": {
        "id": "YhOSPae8WSno"
      },
      "id": "YhOSPae8WSno",
      "execution_count": null,
      "outputs": []
    },
    {
      "cell_type": "markdown",
      "source": [
        "# 3. Data Preproccesing"
      ],
      "metadata": {
        "id": "XakS0oFuXpUC"
      },
      "id": "XakS0oFuXpUC"
    },
    {
      "cell_type": "markdown",
      "source": [
        "The dataset consists of numerical, categorical, and missing characteristics, which are natively supported by TF-DF without requiring any pre-processing."
      ],
      "metadata": {
        "id": "53rkuijrYGtD"
      },
      "id": "53rkuijrYGtD"
    },
    {
      "cell_type": "markdown",
      "source": [
        "## 3.1 Convert Dataframe into TensorFlow Dataset"
      ],
      "metadata": {
        "id": "a3AaRhsoYdXZ"
      },
      "id": "a3AaRhsoYdXZ"
    },
    {
      "cell_type": "markdown",
      "source": [
        "**Splitting the dataset into test and training sets**"
      ],
      "metadata": {
        "id": "Q0cZKa1Ebjqe"
      },
      "id": "Q0cZKa1Ebjqe"
    },
    {
      "cell_type": "code",
      "source": [
        "import numpy as np\n",
        "\n",
        "def split_dataset(dataset, test_ratio=0.30):\n",
        "  test_indices = np.random.rand(len(dataset)) < test_ratio\n",
        "  return dataset[~test_indices], dataset[test_indices]\n",
        "\n",
        "train_df, test_df = split_dataset(df)\n",
        "print(\"{} examples in training, {} examples in testing.\".format(\n",
        "    len(train_df), len(test_df)))"
      ],
      "metadata": {
        "id": "Vp7wG94zW9W6"
      },
      "id": "Vp7wG94zW9W6",
      "execution_count": null,
      "outputs": []
    },
    {
      "cell_type": "markdown",
      "source": [
        "The Random Forest Model is configured to train for classification tasks by default. However, since this is a regression problem, we will need to specify the type of task (tfdf.keras.Task.REGRESSION) as a parameter."
      ],
      "metadata": {
        "id": "0Fv2MSJ3aBLp"
      },
      "id": "0Fv2MSJ3aBLp"
    },
    {
      "cell_type": "code",
      "source": [
        "label = 'SalePrice'\n",
        "train_ds = tfdf.keras.pd_dataframe_to_tf_dataset(train_df, label=label, task = tfdf.keras.Task.REGRESSION)\n",
        "test_ds = tfdf.keras.pd_dataframe_to_tf_dataset(test_df, label=label, task = tfdf.keras.Task.REGRESSION)"
      ],
      "metadata": {
        "id": "DBkuG511aRuv"
      },
      "id": "DBkuG511aRuv",
      "execution_count": null,
      "outputs": []
    },
    {
      "cell_type": "markdown",
      "source": [
        "# 4. Build Model"
      ],
      "metadata": {
        "id": "8vjn3qYmboui"
      },
      "id": "8vjn3qYmboui"
    },
    {
      "cell_type": "markdown",
      "source": [],
      "metadata": {
        "id": "lUdhlQJycROC"
      },
      "id": "lUdhlQJycROC"
    },
    {
      "cell_type": "code",
      "source": [
        "# Getting all the models available in TensorFlow Decision Forests\n",
        "tfdf.keras.get_all_models()"
      ],
      "metadata": {
        "id": "CVZT3YVicRpK"
      },
      "id": "CVZT3YVicRpK",
      "execution_count": null,
      "outputs": []
    },
    {
      "cell_type": "code",
      "source": [
        "# Build Model with evalutaion metric\n",
        "model = tfdf.keras.RandomForestModel(task = tfdf.keras.Task.REGRESSION)\n",
        "model.compile(metrics=[\"mse\"]) # Include a list of eval metrics\n",
        "\n",
        "# Train a Random Forest model.\n",
        "model.fit(train_ds)\n",
        "\n",
        "# Summary of the model structure.\n",
        "model.summary()"
      ],
      "metadata": {
        "id": "1nC7zsnXZsQy"
      },
      "id": "1nC7zsnXZsQy",
      "execution_count": null,
      "outputs": []
    },
    {
      "cell_type": "code",
      "source": [
        "# Visualize model\n",
        "tfdf.model_plotter.plot_model_in_colab(model, tree_idx=0, max_depth=3)"
      ],
      "metadata": {
        "id": "FQvrQvxMc_3x"
      },
      "id": "FQvrQvxMc_3x",
      "execution_count": null,
      "outputs": []
    },
    {
      "cell_type": "code",
      "source": [
        "# Evaluate the model.\n",
        "model.evaluate(test_ds)"
      ],
      "metadata": {
        "id": "epxF9i6p16p5"
      },
      "id": "epxF9i6p16p5",
      "execution_count": null,
      "outputs": []
    },
    {
      "cell_type": "code",
      "source": [
        "# Export the model to a SavedModel.\n",
        "model.save(\"project/model\")"
      ],
      "metadata": {
        "id": "ZM7xfsDpb8Vs"
      },
      "id": "ZM7xfsDpb8Vs",
      "execution_count": null,
      "outputs": []
    },
    {
      "cell_type": "markdown",
      "source": [
        "# 5. Evaluate Model"
      ],
      "metadata": {
        "id": "7haLayff2f8Z"
      },
      "id": "7haLayff2f8Z"
    },
    {
      "cell_type": "code",
      "source": [
        "logs = model.make_inspector().training_logs()\n",
        "plt.plot([log.num_trees for log in logs], [log.evaluation.rmse for log in logs])\n",
        "plt.xlabel(\"Number of trees\")\n",
        "plt.ylabel(\"RMSE (out-of-bag)\")\n",
        "plt.show()"
      ],
      "metadata": {
        "id": "Dsgp1Y7x2hiE"
      },
      "id": "Dsgp1Y7x2hiE",
      "execution_count": null,
      "outputs": []
    },
    {
      "cell_type": "code",
      "source": [
        "inspector = model.make_inspector()\n",
        "inspector.evaluation()"
      ],
      "metadata": {
        "id": "TC1jWdp92waq"
      },
      "id": "TC1jWdp92waq",
      "execution_count": null,
      "outputs": []
    },
    {
      "cell_type": "code",
      "source": [
        "evaluation = model.evaluate(x=test_ds,return_dict=True)\n",
        "\n",
        "for name, value in evaluation.items():\n",
        "  print(f\"{name}: {value:.4f}\")"
      ],
      "metadata": {
        "id": "Fcbb9x-F22WU"
      },
      "id": "Fcbb9x-F22WU",
      "execution_count": null,
      "outputs": []
    },
    {
      "cell_type": "markdown",
      "source": [
        "## 5.1 Variable Importances\n",
        "Available Variable Importances for Decision Trees:"
      ],
      "metadata": {
        "id": "5OJjhOQR3gvN"
      },
      "id": "5OJjhOQR3gvN"
    },
    {
      "cell_type": "code",
      "source": [
        "print(f\"Available variable importances:\")\n",
        "for importance in inspector.variable_importances().keys():\n",
        "  print(\"\\t\", importance)"
      ],
      "metadata": {
        "id": "Fk_NA4-X3S_R"
      },
      "id": "Fk_NA4-X3S_R",
      "execution_count": null,
      "outputs": []
    },
    {
      "cell_type": "markdown",
      "source": [
        "Display the important features for the Variable Importance NUM_AS_ROOT"
      ],
      "metadata": {
        "id": "faidQbvz4HwX"
      },
      "id": "faidQbvz4HwX"
    },
    {
      "cell_type": "code",
      "source": [
        "inspector.variable_importances()[\"NUM_AS_ROOT\"]"
      ],
      "metadata": {
        "id": "rQhoBCe_4J7w"
      },
      "id": "rQhoBCe_4J7w",
      "execution_count": null,
      "outputs": []
    },
    {
      "cell_type": "markdown",
      "source": [
        "Plot the Variable Importances"
      ],
      "metadata": {
        "id": "rXtU2Jup4ZYQ"
      },
      "id": "rXtU2Jup4ZYQ"
    },
    {
      "cell_type": "code",
      "source": [
        "plt.figure(figsize=(12, 4))\n",
        "\n",
        "# Mean decrease in AUC of the class 1 vs the others.\n",
        "variable_importance_metric = \"NUM_AS_ROOT\"\n",
        "variable_importances = inspector.variable_importances()[variable_importance_metric]\n",
        "\n",
        "# Extract the feature name and importance values.\n",
        "#\n",
        "# `variable_importances` is a list of <feature, importance> tuples.\n",
        "feature_names = [vi[0].name for vi in variable_importances]\n",
        "feature_importances = [vi[1] for vi in variable_importances]\n",
        "# The feature are ordered in decreasing importance value.\n",
        "feature_ranks = range(len(feature_names))\n",
        "\n",
        "bar = plt.barh(feature_ranks, feature_importances, label=[str(x) for x in feature_ranks])\n",
        "plt.yticks(feature_ranks, feature_names)\n",
        "plt.gca().invert_yaxis()\n",
        "\n",
        "# Label each bar with values\n",
        "for importance, patch in zip(feature_importances, bar.patches):\n",
        "  plt.text(patch.get_x() + patch.get_width(), patch.get_y(), f\"{importance:.4f}\", va=\"top\")\n",
        "\n",
        "plt.xlabel(variable_importance_metric)\n",
        "plt.title(\"NUM AS ROOT of the class 1 vs the others\")\n",
        "plt.tight_layout()\n",
        "plt.show()"
      ],
      "metadata": {
        "id": "Ieo4HrLQ4Zjz"
      },
      "id": "Ieo4HrLQ4Zjz",
      "execution_count": null,
      "outputs": []
    },
    {
      "cell_type": "markdown",
      "source": [
        "# 6. Predict on New Data"
      ],
      "metadata": {
        "id": "uf9gHYBl5Nhu"
      },
      "id": "uf9gHYBl5Nhu"
    },
    {
      "cell_type": "code",
      "source": [
        "test_df = pd.read_csv(\"https://raw.githubusercontent.com/SirivellaAnjani/House-Prices-Prediction-Using-TensorFlow/main/data/test.csv\")\n",
        "ids = test_df.pop('Id')\n",
        "\n",
        "test_ds = tfdf.keras.pd_dataframe_to_tf_dataset(\n",
        "    test_df,\n",
        "    task = tfdf.keras.Task.REGRESSION)\n",
        "\n",
        "preds = model.predict(test_ds)\n",
        "output = pd.DataFrame({'Id': ids,\n",
        "                       'SalePrice': preds.squeeze()})\n",
        "\n",
        "output.head()"
      ],
      "metadata": {
        "id": "CjO3Cmaw4hZr"
      },
      "id": "CjO3Cmaw4hZr",
      "execution_count": null,
      "outputs": []
    },
    {
      "cell_type": "code",
      "source": [
        "output.to_csv('submission.csv', index=False)"
      ],
      "metadata": {
        "id": "_hOzTan45v2m"
      },
      "id": "_hOzTan45v2m",
      "execution_count": null,
      "outputs": []
    }
  ],
  "metadata": {
    "kernelspec": {
      "display_name": "Python 3 (ipykernel)",
      "language": "python",
      "name": "python3"
    },
    "language_info": {
      "codemirror_mode": {
        "name": "ipython",
        "version": 3
      },
      "file_extension": ".py",
      "mimetype": "text/x-python",
      "name": "python",
      "nbconvert_exporter": "python",
      "pygments_lexer": "ipython3",
      "version": "3.9.13"
    },
    "colab": {
      "provenance": [],
      "include_colab_link": true
    }
  },
  "nbformat": 4,
  "nbformat_minor": 5
}