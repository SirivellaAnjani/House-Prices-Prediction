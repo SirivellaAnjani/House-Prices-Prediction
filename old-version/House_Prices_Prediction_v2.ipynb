{
  "cells": [
    {
      "cell_type": "markdown",
      "metadata": {
        "id": "view-in-github",
        "colab_type": "text"
      },
      "source": [
        "<a href=\"https://colab.research.google.com/github/SirivellaAnjani/House-Prices-Prediction/blob/main/House_Prices_Prediction_v2.ipynb\" target=\"_parent\"><img src=\"https://colab.research.google.com/assets/colab-badge.svg\" alt=\"Open In Colab\"/></a>"
      ]
    },
    {
      "cell_type": "markdown",
      "source": [
        "# **House Prices Prediction Using TensorFlow**"
      ],
      "metadata": {
        "id": "xNjkIK5eREiw"
      },
      "id": "xNjkIK5eREiw"
    },
    {
      "cell_type": "markdown",
      "id": "93fac775",
      "metadata": {
        "id": "93fac775"
      },
      "source": [
        "# Abstract\n",
        "\n",
        "The purpose of this notebook is to create a machine learning model that can accurately predict the sale price of houses in King County, Washington. In order to achieve this goal, regression techniques will be implemented to analyze a dataset containing house sale prices between May 2014 and May 2015. Additionally, k-cross fold validation will be utilized to ensure that the model produces reliable and accurate predictions. By developing a machine learning model capable of accurately predicting house sale prices, this project aims to provide valuable insights to home buyers and sellers in the King County area, and also serves as a useful tool for real estate professionals</body></div>"
      ]
    },
    {
      "cell_type": "markdown",
      "id": "43c63efa",
      "metadata": {
        "id": "43c63efa"
      },
      "source": [
        "<div class=\"my-h1\">Table of Contents</div>  \n",
        "\n",
        "<div class='toc my-body'>\n",
        "  <ol class=\"toc-list\" role=\"list\">\n",
        "    <li>\n",
        "      <a href=\"#chapter1\" class=\"title\">\n",
        "        Data Description\n",
        "      </a>\n",
        "    </li>      \n",
        "    <li>\n",
        "      <a href=\"#chapter2\" class=\"title end-list\">\n",
        "        Exploratory Data Analysis (EDA)\n",
        "      </a>\n",
        "      <ol role=\"list\" class=\"toc-list\">\n",
        "        2.1 <a href=\"#chapter2.1\" class=\"title\">\n",
        "          Import and Inspect Data\n",
        "        </a>\n",
        "      </ol>\n",
        "        <ol role=\"list\">\n",
        "        2.2 <a href=\"#chapter2.2\" class=\"title\">\n",
        "          Univariate Non-Graphical EDA \n",
        "        </a>\n",
        "      </ol>\n",
        "      <ol role=\"list\" >\n",
        "        2.3 <a href=\"#chapter2.3\" class=\"title\">\n",
        "          Univariate Graphical EDA\n",
        "        </a>\n",
        "      </ol>\n",
        "        <ol role=\"list\" >\n",
        "        2.4 <a href=\"#chapter2.4\" class=\"title\">\n",
        "          Multivariate Non-Graphical EDA\n",
        "        </a>\n",
        "      </ol>\n",
        "      <ol role=\"list\" >\n",
        "        2.5 <a href=\"#chapter2.5\" class=\"title\">\n",
        "          Multivariate Graphical EDA\n",
        "        </a>\n",
        "      </ol>\n",
        "    </li>      \n",
        "    <li>\n",
        "      <a href=\"#chapter3\" class=\"title end-list\">\n",
        "        Data Preprocessing\n",
        "      </a>\n",
        "      <ol role=\"list\" class=\"toc-list\">\n",
        "        3.1 <a href=\"#chapter3.1\" class=\"title\">\n",
        "          Handling Missing Values\n",
        "        </a>\n",
        "      </ol>\n",
        "        <ol role=\"list\">\n",
        "        3.2 <a href=\"#chapter3.2\" class=\"title\">\n",
        "          Handling Categorical Values \n",
        "        </a>\n",
        "      </ol>\n",
        "      <ol role=\"list\" >\n",
        "        3.3 <a href=\"#chapter3.3\" class=\"title\">\n",
        "          Feature Scaling\n",
        "        </a>\n",
        "      </ol>\n",
        "    </li>\n",
        "  </ol>\n",
        "</div>"
      ]
    },
    {
      "cell_type": "markdown",
      "id": "165d349f",
      "metadata": {
        "id": "165d349f"
      },
      "source": [
        "# 1. Data Description"
      ]
    },
    {
      "cell_type": "markdown",
      "id": "23865737",
      "metadata": {
        "id": "23865737"
      },
      "source": [
        "<div class=\"my-body\">There are 80 variables available for the prediction model to leverage. The variable I am trying to predict is called Label and the input variables for the mcahine learning model are called Features.\n",
        "</div>\n",
        "<h3>Label</h3>\n",
        "<div class=\"my-body\">\n",
        "SalePrice - the property's sale price in dollars.\n",
        "</div>\n",
        "<h3>Features</h3>\n",
        "<div class=\"my-body\">\n",
        "    There are <em>79 features</em>. The complete details about every variable can be found in <a target=_blank href=\"https://github.com/SirivellaAnjani/House-Prices-Prediction/blob/1e6bc8b45a2561fbc60766d8805df6f33f4952e8/data/data_description.txt\">Data Description</a> text. Here is a brief description of each input variable:\n",
        "</div>"
      ]
    },
    {
      "cell_type": "markdown",
      "id": "d9738bff",
      "metadata": {
        "id": "d9738bff"
      },
      "source": [
        "    \n",
        "| Input Variable | Description                                                    |\n",
        "|:---------------|:---------------------------------------------------------------|\n",
        "| MSSubClass     |  The building class                                            |\n",
        "| MSZoning       |  The general zoning classification                             |\n",
        "| LotFrontage    |  Linear feet of street connected to   property                 |\n",
        "| LotArea        |  Lot size in square feet                                       |\n",
        "| Street         |  Type of road access                                           |\n",
        "| Alley          |  Type of alley access                                          |\n",
        "| LotShape       |  General shape of property                                     |\n",
        "| LandContour    |  Flatness of the property                                      |\n",
        "| Utilities      |  Type of utilities available                                   |\n",
        "| LotConfig      |  Lot configuration                                             |\n",
        "| LandSlope      |  Slope of property                                             |\n",
        "| Neighborhood   |  Physical locations within Ames   city limits                  |\n",
        "| Condition1     |  Proximity to main road or railroad                            |\n",
        "| Condition2     |  Proximity to main road or railroad   (if a second is present) |\n",
        "| BldgType       |  Type of dwelling                                              |\n",
        "| HouseStyle     |  Style of dwelling                                             |\n",
        "| OverallQual    |  Overall material and finish   quality                         |\n",
        "| OverallCond    |  Overall condition rating                                      |\n",
        "| YearBuilt      |  Original construction date                                    |\n",
        "| YearRemodAdd   |  Remodel date                                                  |\n",
        "| RoofStyle      |  Type of roof                                                  |\n",
        "| RoofMatl       |  Roof material                                                 |\n",
        "| Exterior1st    |  Exterior covering on house                                    |\n",
        "| Exterior2nd    |  Exterior covering on house (if   more than one material)      |\n",
        "| MasVnrType     |  Masonry veneer type                                           |\n",
        "| MasVnrArea     |  Masonry veneer area in square feet                            |\n",
        "| ExterQual      |  Exterior material quality                                     |\n",
        "| ExterCond      |  Present condition of the material   on the exterior           |\n",
        "| Foundation     |  Type of foundation                                            |\n",
        "| BsmtQual       |  Height of the basement                                        |\n",
        "| BsmtCond       |  General condition of the basement                             |\n",
        "| BsmtExposure   |  Walkout or garden level basement   walls                      |\n",
        "| BsmtFinType1   |  Quality of basement finished area                             |\n",
        "| BsmtFinSF1     |  Type 1 finished square feet                                   |\n",
        "| BsmtFinType2   |  Quality of second finished area   (if present)                |\n",
        "| BsmtFinSF2     |  Type 2 finished square feet                                   |\n",
        "| BsmtUnfSF      |  Unfinished square feet of basement   area                     |\n",
        "| TotalBsmtSF    |  Total square feet of basement area                            |\n",
        "| Heating        |  Type of heating                                               |\n",
        "| HeatingQC      |  Heating quality and condition                                 |\n",
        "| CentralAir     |  Central air conditioning                                      |\n",
        "| Electrical     |  Electrical system                                             |\n",
        "| 1stFlrSF       |  First Floor square feet                                       |\n",
        "| 2ndFlrSF       |  Second floor square feet                                      |\n",
        "| LowQualFinSF   |  Low quality finished square feet   (all floors)               |\n",
        "| GrLivArea      |  Above grade (ground) living area   square feet                |\n",
        "| BsmtFullBath   |  Basement full bathrooms                                       |\n",
        "| BsmtHalfBath   |  Basement half bathrooms                                       |\n",
        "| FullBath       |  Full bathrooms above grade                                    |\n",
        "| HalfBath       |  Half baths above grade                                        |\n",
        "| Bedroom        |  Number of bedrooms above basement   level                     |\n",
        "| Kitchen        |  Number of kitchens                                            |\n",
        "| KitchenQual    |  Kitchen quality                                               |\n",
        "| TotRmsAbvGrd   |  Total rooms above grade (does not   include bathrooms)        |\n",
        "| Functional     |  Home functionality rating                                     |\n",
        "| Fireplaces     |  Number of fireplaces                                          |\n",
        "| FireplaceQu    |  Fireplace quality                                             |\n",
        "| GarageType     |  Garage location                                               |\n",
        "| GarageYrBlt    |  Year garage was built                                         |\n",
        "| GarageFinish   |  Interior finish of the garage                                 |\n",
        "| GarageCars     |  Size of garage in car capacity                                |\n",
        "| GarageArea     |  Size of garage in square feet                                 |\n",
        "| GarageQual     |  Garage quality                                                |\n",
        "| GarageCond     |  Garage condition                                              |\n",
        "| PavedDrive     |  Paved driveway                                                |\n",
        "| WoodDeckSF     |  Wood deck area in square feet                                 |\n",
        "| OpenPorchSF    |  Open porch area in square feet                                |\n",
        "| EnclosedPorch  |  Enclosed porch area in square feet                            |\n",
        "| 3SsnPorch      |  Three season porch area in square   feet                      |\n",
        "| ScreenPorch    |  Screen porch area in square feet                              |\n",
        "| PoolArea       |  Pool area in square feet                                      |\n",
        "| PoolQC         |  Pool quality                                                  |\n",
        "| Fence          |  Fence quality                                                 |\n",
        "| MiscFeature    |  Miscellaneous feature not covered   in other categories       |\n",
        "| MiscVal        |  Dollar value of miscellaneous feature                         |\n",
        "| MoSold         |  Month Sold                                                    |\n",
        "| YrSold         |  Year Sold                                                     |\n",
        "| SaleType       |  Type of sale                                                  |\n",
        "| SaleCondition  |  Condition of sale                                             |\n"
      ]
    },
    {
      "cell_type": "markdown",
      "id": "0f6736c9",
      "metadata": {
        "id": "0f6736c9"
      },
      "source": [
        "<p style=\"background-color:#93DEE4;\n",
        "          color:#101010;\n",
        "          font-family: Verdana, sans-serif;\n",
        "          font-size:250%;\n",
        "          text-align:justify;\n",
        "          padding: 30px\">2. Exploratory Data Analysis<a class=\"anchor\" id=\"chapter2\"></a>"
      ]
    },
    {
      "cell_type": "markdown",
      "id": "097f8b9e",
      "metadata": {
        "id": "097f8b9e"
      },
      "source": [
        "Prior to importing the data, I will import the libraries required for the analysis:"
      ]
    },
    {
      "cell_type": "code",
      "source": [
        "!pip install tensorflow_decision_forests"
      ],
      "metadata": {
        "colab": {
          "base_uri": "https://localhost:8080/"
        },
        "id": "c8P9GO9vSIwx",
        "outputId": "9c4661aa-a0c5-4d99-f588-f0ebaa72fa2e"
      },
      "id": "c8P9GO9vSIwx",
      "execution_count": 2,
      "outputs": [
        {
          "output_type": "stream",
          "name": "stdout",
          "text": [
            "Looking in indexes: https://pypi.org/simple, https://us-python.pkg.dev/colab-wheels/public/simple/\n",
            "Collecting tensorflow_decision_forests\n",
            "  Downloading tensorflow_decision_forests-1.3.0-cp310-cp310-manylinux_2_17_x86_64.manylinux2014_x86_64.whl (16.4 MB)\n",
            "\u001b[2K     \u001b[90m━━━━━━━━━━━━━━━━━━━━━━━━━━━━━━━━━━━━━━━━\u001b[0m \u001b[32m16.4/16.4 MB\u001b[0m \u001b[31m73.4 MB/s\u001b[0m eta \u001b[36m0:00:00\u001b[0m\n",
            "\u001b[?25hRequirement already satisfied: numpy in /usr/local/lib/python3.10/dist-packages (from tensorflow_decision_forests) (1.22.4)\n",
            "Requirement already satisfied: pandas in /usr/local/lib/python3.10/dist-packages (from tensorflow_decision_forests) (1.5.3)\n",
            "Requirement already satisfied: absl-py in /usr/local/lib/python3.10/dist-packages (from tensorflow_decision_forests) (1.4.0)\n",
            "Collecting wurlitzer\n",
            "  Downloading wurlitzer-3.0.3-py3-none-any.whl (7.3 kB)\n",
            "Requirement already satisfied: wheel in /usr/local/lib/python3.10/dist-packages (from tensorflow_decision_forests) (0.40.0)\n",
            "Requirement already satisfied: six in /usr/local/lib/python3.10/dist-packages (from tensorflow_decision_forests) (1.16.0)\n",
            "Requirement already satisfied: tensorflow~=2.12.0 in /usr/local/lib/python3.10/dist-packages (from tensorflow_decision_forests) (2.12.0)\n",
            "Requirement already satisfied: gast<=0.4.0,>=0.2.1 in /usr/local/lib/python3.10/dist-packages (from tensorflow~=2.12.0->tensorflow_decision_forests) (0.4.0)\n",
            "Requirement already satisfied: packaging in /usr/local/lib/python3.10/dist-packages (from tensorflow~=2.12.0->tensorflow_decision_forests) (23.1)\n",
            "Requirement already satisfied: protobuf!=4.21.0,!=4.21.1,!=4.21.2,!=4.21.3,!=4.21.4,!=4.21.5,<5.0.0dev,>=3.20.3 in /usr/local/lib/python3.10/dist-packages (from tensorflow~=2.12.0->tensorflow_decision_forests) (3.20.3)\n",
            "Requirement already satisfied: setuptools in /usr/local/lib/python3.10/dist-packages (from tensorflow~=2.12.0->tensorflow_decision_forests) (67.7.2)\n",
            "Requirement already satisfied: h5py>=2.9.0 in /usr/local/lib/python3.10/dist-packages (from tensorflow~=2.12.0->tensorflow_decision_forests) (3.8.0)\n",
            "Requirement already satisfied: opt-einsum>=2.3.2 in /usr/local/lib/python3.10/dist-packages (from tensorflow~=2.12.0->tensorflow_decision_forests) (3.3.0)\n",
            "Requirement already satisfied: google-pasta>=0.1.1 in /usr/local/lib/python3.10/dist-packages (from tensorflow~=2.12.0->tensorflow_decision_forests) (0.2.0)\n",
            "Requirement already satisfied: tensorflow-estimator<2.13,>=2.12.0 in /usr/local/lib/python3.10/dist-packages (from tensorflow~=2.12.0->tensorflow_decision_forests) (2.12.0)\n",
            "Requirement already satisfied: jax>=0.3.15 in /usr/local/lib/python3.10/dist-packages (from tensorflow~=2.12.0->tensorflow_decision_forests) (0.4.8)\n",
            "Requirement already satisfied: termcolor>=1.1.0 in /usr/local/lib/python3.10/dist-packages (from tensorflow~=2.12.0->tensorflow_decision_forests) (2.3.0)\n",
            "Requirement already satisfied: astunparse>=1.6.0 in /usr/local/lib/python3.10/dist-packages (from tensorflow~=2.12.0->tensorflow_decision_forests) (1.6.3)\n",
            "Requirement already satisfied: libclang>=13.0.0 in /usr/local/lib/python3.10/dist-packages (from tensorflow~=2.12.0->tensorflow_decision_forests) (16.0.0)\n",
            "Requirement already satisfied: flatbuffers>=2.0 in /usr/local/lib/python3.10/dist-packages (from tensorflow~=2.12.0->tensorflow_decision_forests) (23.3.3)\n",
            "Requirement already satisfied: grpcio<2.0,>=1.24.3 in /usr/local/lib/python3.10/dist-packages (from tensorflow~=2.12.0->tensorflow_decision_forests) (1.54.0)\n",
            "Requirement already satisfied: wrapt<1.15,>=1.11.0 in /usr/local/lib/python3.10/dist-packages (from tensorflow~=2.12.0->tensorflow_decision_forests) (1.14.1)\n",
            "Requirement already satisfied: tensorboard<2.13,>=2.12 in /usr/local/lib/python3.10/dist-packages (from tensorflow~=2.12.0->tensorflow_decision_forests) (2.12.2)\n",
            "Requirement already satisfied: keras<2.13,>=2.12.0 in /usr/local/lib/python3.10/dist-packages (from tensorflow~=2.12.0->tensorflow_decision_forests) (2.12.0)\n",
            "Requirement already satisfied: typing-extensions>=3.6.6 in /usr/local/lib/python3.10/dist-packages (from tensorflow~=2.12.0->tensorflow_decision_forests) (4.5.0)\n",
            "Requirement already satisfied: tensorflow-io-gcs-filesystem>=0.23.1 in /usr/local/lib/python3.10/dist-packages (from tensorflow~=2.12.0->tensorflow_decision_forests) (0.32.0)\n",
            "Requirement already satisfied: pytz>=2020.1 in /usr/local/lib/python3.10/dist-packages (from pandas->tensorflow_decision_forests) (2022.7.1)\n",
            "Requirement already satisfied: python-dateutil>=2.8.1 in /usr/local/lib/python3.10/dist-packages (from pandas->tensorflow_decision_forests) (2.8.2)\n",
            "Requirement already satisfied: scipy>=1.7 in /usr/local/lib/python3.10/dist-packages (from jax>=0.3.15->tensorflow~=2.12.0->tensorflow_decision_forests) (1.10.1)\n",
            "Requirement already satisfied: ml-dtypes>=0.0.3 in /usr/local/lib/python3.10/dist-packages (from jax>=0.3.15->tensorflow~=2.12.0->tensorflow_decision_forests) (0.1.0)\n",
            "Requirement already satisfied: requests<3,>=2.21.0 in /usr/local/lib/python3.10/dist-packages (from tensorboard<2.13,>=2.12->tensorflow~=2.12.0->tensorflow_decision_forests) (2.27.1)\n",
            "Requirement already satisfied: google-auth<3,>=1.6.3 in /usr/local/lib/python3.10/dist-packages (from tensorboard<2.13,>=2.12->tensorflow~=2.12.0->tensorflow_decision_forests) (2.17.3)\n",
            "Requirement already satisfied: tensorboard-data-server<0.8.0,>=0.7.0 in /usr/local/lib/python3.10/dist-packages (from tensorboard<2.13,>=2.12->tensorflow~=2.12.0->tensorflow_decision_forests) (0.7.0)\n",
            "Requirement already satisfied: tensorboard-plugin-wit>=1.6.0 in /usr/local/lib/python3.10/dist-packages (from tensorboard<2.13,>=2.12->tensorflow~=2.12.0->tensorflow_decision_forests) (1.8.1)\n",
            "Requirement already satisfied: markdown>=2.6.8 in /usr/local/lib/python3.10/dist-packages (from tensorboard<2.13,>=2.12->tensorflow~=2.12.0->tensorflow_decision_forests) (3.4.3)\n",
            "Requirement already satisfied: werkzeug>=1.0.1 in /usr/local/lib/python3.10/dist-packages (from tensorboard<2.13,>=2.12->tensorflow~=2.12.0->tensorflow_decision_forests) (2.3.0)\n",
            "Requirement already satisfied: google-auth-oauthlib<1.1,>=0.5 in /usr/local/lib/python3.10/dist-packages (from tensorboard<2.13,>=2.12->tensorflow~=2.12.0->tensorflow_decision_forests) (1.0.0)\n",
            "Requirement already satisfied: rsa<5,>=3.1.4 in /usr/local/lib/python3.10/dist-packages (from google-auth<3,>=1.6.3->tensorboard<2.13,>=2.12->tensorflow~=2.12.0->tensorflow_decision_forests) (4.9)\n",
            "Requirement already satisfied: cachetools<6.0,>=2.0.0 in /usr/local/lib/python3.10/dist-packages (from google-auth<3,>=1.6.3->tensorboard<2.13,>=2.12->tensorflow~=2.12.0->tensorflow_decision_forests) (5.3.0)\n",
            "Requirement already satisfied: pyasn1-modules>=0.2.1 in /usr/local/lib/python3.10/dist-packages (from google-auth<3,>=1.6.3->tensorboard<2.13,>=2.12->tensorflow~=2.12.0->tensorflow_decision_forests) (0.3.0)\n",
            "Requirement already satisfied: requests-oauthlib>=0.7.0 in /usr/local/lib/python3.10/dist-packages (from google-auth-oauthlib<1.1,>=0.5->tensorboard<2.13,>=2.12->tensorflow~=2.12.0->tensorflow_decision_forests) (1.3.1)\n",
            "Requirement already satisfied: certifi>=2017.4.17 in /usr/local/lib/python3.10/dist-packages (from requests<3,>=2.21.0->tensorboard<2.13,>=2.12->tensorflow~=2.12.0->tensorflow_decision_forests) (2022.12.7)\n",
            "Requirement already satisfied: charset-normalizer~=2.0.0 in /usr/local/lib/python3.10/dist-packages (from requests<3,>=2.21.0->tensorboard<2.13,>=2.12->tensorflow~=2.12.0->tensorflow_decision_forests) (2.0.12)\n",
            "Requirement already satisfied: idna<4,>=2.5 in /usr/local/lib/python3.10/dist-packages (from requests<3,>=2.21.0->tensorboard<2.13,>=2.12->tensorflow~=2.12.0->tensorflow_decision_forests) (3.4)\n",
            "Requirement already satisfied: urllib3<1.27,>=1.21.1 in /usr/local/lib/python3.10/dist-packages (from requests<3,>=2.21.0->tensorboard<2.13,>=2.12->tensorflow~=2.12.0->tensorflow_decision_forests) (1.26.15)\n",
            "Requirement already satisfied: MarkupSafe>=2.1.1 in /usr/local/lib/python3.10/dist-packages (from werkzeug>=1.0.1->tensorboard<2.13,>=2.12->tensorflow~=2.12.0->tensorflow_decision_forests) (2.1.2)\n",
            "Requirement already satisfied: pyasn1<0.6.0,>=0.4.6 in /usr/local/lib/python3.10/dist-packages (from pyasn1-modules>=0.2.1->google-auth<3,>=1.6.3->tensorboard<2.13,>=2.12->tensorflow~=2.12.0->tensorflow_decision_forests) (0.5.0)\n",
            "Requirement already satisfied: oauthlib>=3.0.0 in /usr/local/lib/python3.10/dist-packages (from requests-oauthlib>=0.7.0->google-auth-oauthlib<1.1,>=0.5->tensorboard<2.13,>=2.12->tensorflow~=2.12.0->tensorflow_decision_forests) (3.2.2)\n",
            "Installing collected packages: wurlitzer, tensorflow_decision_forests\n",
            "Successfully installed tensorflow_decision_forests-1.3.0 wurlitzer-3.0.3\n"
          ]
        }
      ]
    },
    {
      "cell_type": "code",
      "execution_count": 3,
      "id": "ced306e6",
      "metadata": {
        "id": "ced306e6"
      },
      "outputs": [],
      "source": [
        "#  Data Manipulation\n",
        "import numpy as np\n",
        "import pandas as pd\n",
        "\n",
        "# Data Visualization\n",
        "import seaborn as sns\n",
        "import matplotlib.pyplot as plt\n",
        "\n",
        "# Data Preprocessing\n",
        "from sklearn.impute import SimpleImputer\n",
        "from sklearn.compose import ColumnTransformer\n",
        "from sklearn.preprocessing import StandardScaler, OneHotEncoder\n",
        "from sklearn.feature_selection import SelectPercentile, chi2\n",
        "\n",
        "# Algorithms\n",
        "from sklearn.model_selection import train_test_split, RandomizedSearchCV\n",
        "from sklearn.ensemble import RandomForestClassifier\n",
        "from sklearn.datasets import make_classification\n",
        "import tensorflow as tf\n",
        "import tensorflow_decision_forests as tfdf\n",
        "\n",
        "# Evaluation Metrics\n",
        "from sklearn.metrics import accuracy_score, confusion_matrix, roc_auc_score\n",
        "from sklearn.metrics import precision_score, recall_score, f1_score\n",
        "\n",
        "# Visualize Metrics\n",
        "from sklearn.metrics import ConfusionMatrixDisplay\n",
        "from sklearn.metrics import roc_curve\n",
        "from sklearn.metrics import RocCurveDisplay\n",
        "from sklearn.metrics import precision_recall_curve\n",
        "from sklearn.metrics import PrecisionRecallDisplay\n",
        "\n",
        "# Format Notebook\n",
        "from IPython.display import display, HTML, display_html "
      ]
    },
    {
      "cell_type": "code",
      "execution_count": 4,
      "id": "3d07f5a5",
      "metadata": {
        "colab": {
          "base_uri": "https://localhost:8080/"
        },
        "id": "3d07f5a5",
        "outputId": "7a553b08-063b-478c-e9cd-2a7c5eb3b331"
      },
      "outputs": [
        {
          "output_type": "stream",
          "name": "stdout",
          "text": [
            "TensorFlow v2.12.0\n",
            "TensorFlow Decision Forests v1.3.0\n"
          ]
        }
      ],
      "source": [
        "print(\"TensorFlow v\" + tf.__version__)\n",
        "print(\"TensorFlow Decision Forests v\" + tfdf.__version__)"
      ]
    },
    {
      "cell_type": "markdown",
      "id": "e00208be",
      "metadata": {
        "id": "e00208be"
      },
      "source": [
        "2.1 "
      ]
    },
    {
      "cell_type": "code",
      "execution_count": null,
      "id": "64ec5634",
      "metadata": {
        "id": "64ec5634"
      },
      "outputs": [],
      "source": []
    },
    {
      "cell_type": "code",
      "execution_count": null,
      "id": "b481b76e",
      "metadata": {
        "id": "b481b76e"
      },
      "outputs": [],
      "source": []
    },
    {
      "cell_type": "code",
      "execution_count": null,
      "id": "a042698f",
      "metadata": {
        "id": "a042698f"
      },
      "outputs": [],
      "source": []
    },
    {
      "cell_type": "code",
      "execution_count": null,
      "id": "3e4e199e",
      "metadata": {
        "id": "3e4e199e"
      },
      "outputs": [],
      "source": []
    },
    {
      "cell_type": "code",
      "execution_count": null,
      "id": "6d9f3a5b",
      "metadata": {
        "id": "6d9f3a5b"
      },
      "outputs": [],
      "source": []
    },
    {
      "cell_type": "code",
      "execution_count": null,
      "id": "b9f950a6",
      "metadata": {
        "id": "b9f950a6"
      },
      "outputs": [],
      "source": []
    },
    {
      "cell_type": "code",
      "execution_count": null,
      "id": "2ac1ec64",
      "metadata": {
        "id": "2ac1ec64"
      },
      "outputs": [],
      "source": []
    },
    {
      "cell_type": "code",
      "execution_count": null,
      "id": "71227be7",
      "metadata": {
        "id": "71227be7"
      },
      "outputs": [],
      "source": []
    },
    {
      "cell_type": "code",
      "execution_count": null,
      "id": "c7f49f67",
      "metadata": {
        "id": "c7f49f67"
      },
      "outputs": [],
      "source": []
    },
    {
      "cell_type": "code",
      "execution_count": null,
      "id": "704ca8cd",
      "metadata": {
        "id": "704ca8cd"
      },
      "outputs": [],
      "source": []
    },
    {
      "cell_type": "code",
      "execution_count": null,
      "id": "e94a2d22",
      "metadata": {
        "id": "e94a2d22"
      },
      "outputs": [],
      "source": []
    },
    {
      "cell_type": "code",
      "execution_count": null,
      "id": "2cfbc436",
      "metadata": {
        "id": "2cfbc436"
      },
      "outputs": [],
      "source": []
    },
    {
      "cell_type": "markdown",
      "id": "bbc1a117",
      "metadata": {
        "id": "bbc1a117"
      },
      "source": [
        "<p style=\"background-color:#93DEE4;\n",
        "          color:#101010;\n",
        "          font-family: Verdana, sans-serif;\n",
        "          font-size:250%;\n",
        "          text-align:justify;\n",
        "          padding: 30px\">2.1 Exploratory Data Analysis<a class=\"anchor\" id=\"chapter2.1\"></a>"
      ]
    },
    {
      "cell_type": "markdown",
      "id": "c97991d7",
      "metadata": {
        "id": "c97991d7"
      },
      "source": []
    }
  ],
  "metadata": {
    "kernelspec": {
      "display_name": "Python 3 (ipykernel)",
      "language": "python",
      "name": "python3"
    },
    "language_info": {
      "codemirror_mode": {
        "name": "ipython",
        "version": 3
      },
      "file_extension": ".py",
      "mimetype": "text/x-python",
      "name": "python",
      "nbconvert_exporter": "python",
      "pygments_lexer": "ipython3",
      "version": "3.9.13"
    },
    "colab": {
      "provenance": [],
      "include_colab_link": true
    }
  },
  "nbformat": 4,
  "nbformat_minor": 5
}