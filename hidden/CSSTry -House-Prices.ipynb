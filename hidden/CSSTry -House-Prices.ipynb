{
 "cells": [
  {
   "cell_type": "code",
   "execution_count": 29,
   "id": "b77f21dc",
   "metadata": {},
   "outputs": [
    {
     "data": {
      "text/html": [
       "<style>@import url('https://fonts.googleapis.com/css2?family=Open+Sans:ital,wght@0,300;0,400;0,500;0,600;0,700;0,800;1,300;1,400;1,500;1,600;1,700;1,800&display=swap');\n",
       "\n",
       "@font-face {\n",
       "  font-family: 'Fira Code';\n",
       "  src: url(\"https://cdn.rawgit.com/dunovank/jupyter-themes/1e851888/jupyterthemes/fonts/monospace/firacode/firacode.otf\") format(\"opentype\");\n",
       "}\n",
       "\n",
       ".CodeMirror {\n",
       "  font-family: 'Fira Code';\n",
       "  font-variant-ligatures: initial;\n",
       "}\n",
       "\n",
       ".cm-string {\n",
       "    font-variant-ligatures: none;\n",
       "}\n",
       "\n",
       "@font-face {\n",
       "    font-family: 'anonymous_probold';\n",
       "    src: url('fonts/anonymous_pro_b-webfont.woff2') format('woff2'),\n",
       "         url('fonts/anonymous_pro_b-webfont.woff') format('woff');\n",
       "    font-weight: normal;\n",
       "    font-style: normal;\n",
       "\n",
       "}\n",
       "\n",
       "@font-face {\n",
       "    font-family: 'anonymous_probold_italic';\n",
       "    src: url('fonts/anonymous_pro_bi-webfont.woff2') format('woff2'),\n",
       "         url('fonts/anonymous_pro_bi-webfont.woff') format('woff');\n",
       "    font-weight: normal;\n",
       "    font-style: normal;\n",
       "\n",
       "}\n",
       "\n",
       "@font-face {\n",
       "    font-family: 'anonymous_proitalic';\n",
       "    src: url('fonts/anonymous_pro_i-webfont.woff2') format('woff2'),\n",
       "         url('fonts/anonymous_pro_i-webfont.woff') format('woff');\n",
       "    font-weight: normal;\n",
       "    font-style: normal;\n",
       "\n",
       "}\n",
       "\n",
       "@font-face {\n",
       "    font-family: 'anonymous_proregular';\n",
       "    src: url('fonts/anonymous_pro-webfont.woff2') format('woff2'),\n",
       "         url('fonts/anonymous_pro-webfont.woff') format('woff');\n",
       "    font-weight: normal;\n",
       "    font-style: normal;\n",
       "\n",
       "}\n",
       "\n",
       "@font-face {\n",
       "  font-family: 'Fira Code';\n",
       "  src: url('woff2/FiraCode-Light.woff2') format('woff2'),\n",
       "    url(\"woff/FiraCode-Light.woff\") format(\"woff\");\n",
       "  font-weight: 300;\n",
       "  font-style: normal;\n",
       "}\n",
       "\n",
       "@font-face {\n",
       "  font-family: 'Fira Code';\n",
       "  src: url('woff2/FiraCode-Regular.woff2') format('woff2'),\n",
       "    url(\"woff/FiraCode-Regular.woff\") format(\"woff\");\n",
       "  font-weight: 400;\n",
       "  font-style: normal;\n",
       "}\n",
       "\n",
       "@font-face {\n",
       "  font-family: 'Fira Code';\n",
       "  src: url('woff2/FiraCode-Medium.woff2') format('woff2'),\n",
       "    url(\"woff/FiraCode-Medium.woff\") format(\"woff\");\n",
       "  font-weight: 500;\n",
       "  font-style: normal;\n",
       "}\n",
       "\n",
       "@font-face {\n",
       "  font-family: 'Fira Code';\n",
       "  src: url('woff2/FiraCode-SemiBold.woff2') format('woff2'),\n",
       "    url(\"woff/FiraCode-SemiBold.woff\") format(\"woff\");\n",
       "  font-weight: 600;\n",
       "  font-style: normal;\n",
       "}\n",
       "\n",
       "@font-face {\n",
       "  font-family: 'Fira Code';\n",
       "  src: url('woff2/FiraCode-Bold.woff2') format('woff2'),\n",
       "    url(\"woff/FiraCode-Bold.woff\") format(\"woff\");\n",
       "  font-weight: 700;\n",
       "  font-style: normal;\n",
       "}\n",
       "\n",
       "@font-face {\n",
       "  font-family: 'Fira Code VF';\n",
       "  src: url('woff2/FiraCode-VF.woff2') format('woff2-variations'),\n",
       "       url('woff/FiraCode-VF.woff') format('woff-variations');\n",
       "  /* font-weight requires a range: https://developer.mozilla.org/en-US/docs/Web/CSS/CSS_Fonts/Variable_Fonts_Guide#Using_a_variable_font_font-face_changes */\n",
       "  font-weight: 300 700;\n",
       "  font-style: normal;\n",
       "}\n",
       "\n",
       "\n",
       "/*-------------JUPYTER LOGO -----------------------------*/\n",
       "\n",
       "#ipython_notebook img{                                                                                        \n",
       "    display:block;\n",
       "    background: url(\"img/logo.png\") no-repeat;\n",
       "    background-size: contain;\n",
       "    width: 233px;\n",
       "    height: 33px;\n",
       "    padding-left: 233px;\n",
       "    -moz-box-sizing: border-box;\n",
       "    box-sizing: border-box;\n",
       "}\n",
       "/*-------------JUPYTER BLOCK STYLES-----------------------------*/\n",
       ".filename {\n",
       "    font-family: \"Open Sans\", sans-serif;\n",
       "    font-variant: small-caps;\n",
       "    letter-spacing: 0.08em;\n",
       "\tfont-style: bold;\n",
       "    -webkit-font-smoothing: antialiased;\n",
       "    -moz-osx-font-smoothing: grayscale;\n",
       "    text-rendering: optimizeLegibility;\n",
       "}\n",
       "\n",
       ".text_cell, .text_cell_render {\n",
       "    font-family: \"Open Sans\", sans-serif;\n",
       "    font-size: 16px;\n",
       "    line-height:1.4em;\n",
       "    padding-left:1em;\n",
       "    padding-right:3em;\n",
       "    -webkit-font-smoothing: antialiased;\n",
       "    -moz-osx-font-smoothing: grayscale;\n",
       "    text-rendering: optimizeLegibility;\n",
       "    font-variant-ligatures: contextual no-historical-ligatures common-ligatures;\n",
       "}\n",
       "\n",
       "\n",
       ".code_cell {  /* Area containing both code and output */\n",
       "    font-family: \"Fira Code\",\"anonymous_proregular\", monospace;\n",
       "    background-color:#e8f8f9;\n",
       "    border-radius: 0.8em;\n",
       "    padding: 1em;\n",
       "}\n",
       "\n",
       "/*-------------HEADER BLOCK STYLES-----------------------------*/\n",
       "\n",
       "h1, h2, h3, h4 {\n",
       "\tfont-family: \"OpenSans\",Verdana, sans-serif;\n",
       "\tfont-style: bold;\n",
       "\ttext-align:justify;\n",
       "\tpadding: 30px;\n",
       "}\n",
       "\n",
       "h1 {\n",
       "\tbackground-color:#93DEE4;\n",
       "\tcolor:#101010;\n",
       "\tfont-family: \"OpenSans\",Verdana, sans-serif;\n",
       "\tfont-style: bold;\n",
       "\tfont-size:300%;\n",
       "\tfont-weight:600;\n",
       "\ttext-align:justify;\n",
       "\tpadding: 30px;\n",
       "\t/*background-image: linear-gradient(90deg, #fff, #93DEE4);\n",
       "\tposition: static;*/\n",
       "}\n",
       "\n",
       "h2 {\n",
       "\tcolor:#669b9f;\n",
       "\tfont-family: \"OpenSans\",Verdana, sans-serif;\n",
       "\tfont-style: bold;\n",
       "\tfont-size:200%;\n",
       "\tfont-weight:300;\n",
       "\ttext-align:justify;\n",
       "\tpadding: 20px;\n",
       "\ttext-decoration: underline overline;\n",
       "\t/*background-image: linear-gradient(90deg, #fff, #93DEE4);\n",
       "\tposition: static;*/\n",
       "}\n",
       "body {\n",
       "\tfont-family: \"OpenSans\",Verdana, sans-serif;\n",
       "\tfont-style: normal;\n",
       "\ttext-align:justify;\n",
       "\tpadding: 10px;\n",
       "}</style>"
      ],
      "text/plain": [
       "<IPython.core.display.HTML object>"
      ]
     },
     "execution_count": 29,
     "metadata": {},
     "output_type": "execute_result"
    }
   ],
   "source": [
    "from IPython.display import HTML\n",
    "HTML('<style>{}</style>'.format(open('custom/styles.css').read()))"
   ]
  },
  {
   "cell_type": "code",
   "execution_count": 24,
   "id": "841513b5",
   "metadata": {},
   "outputs": [
    {
     "data": {
      "application/javascript": [
       "\n",
       "$(\"#kernel_logo_widget\").html(\"<img class=\\\"current_kernel_logo\\\" \\\n",
       "    src=\\\"img/house.png\\\" style=\\\"display: inline;width:40px;height: 30px\\\">\")\n"
      ],
      "text/plain": [
       "<IPython.core.display.Javascript object>"
      ]
     },
     "metadata": {},
     "output_type": "display_data"
    }
   ],
   "source": [
    "%%javascript\n",
    "\n",
    "$(\"#kernel_logo_widget\").html(\"<img class=\\\"current_kernel_logo\\\" \\\n",
    "    src=\\\"img/house.png\\\" style=\\\"display: inline;width:40px;height: 30px\\\">\")"
   ]
  },
  {
   "cell_type": "code",
   "execution_count": 25,
   "id": "c9eaffa7",
   "metadata": {},
   "outputs": [
    {
     "data": {
      "application/javascript": [
       "$(\"h1, h2\").each(function(i) {\n",
       "                var current = $(this);\n",
       "                current.attr(\"id\", \"title\" + i);\n",
       "\n",
       "                /* Create a empty markdown cell (press m) and type:\n",
       "                <div id=\"toc\">\n",
       "                </div>\n",
       "                */\n",
       "\n",
       "                $(\"#toc\").append(\"<a id='link\" + i + \"' href='#title\" + i + \"' title='\" + current.attr(\"tagName\") + \"'>\" + current.html() + \"</a></br>\");\n",
       "                \n",
       "});\n"
      ],
      "text/plain": [
       "<IPython.core.display.Javascript object>"
      ]
     },
     "metadata": {},
     "output_type": "display_data"
    }
   ],
   "source": [
    "%%javascript\n",
    "$(\"h1, h2\").each(function(i) {\n",
    "                var current = $(this);\n",
    "                current.attr(\"id\", \"title\" + i);\n",
    "\n",
    "                /* Create a empty markdown cell (press m) and type:\n",
    "                <div id=\"toc\">\n",
    "                </div>\n",
    "                */\n",
    "\n",
    "                $(\"#toc\").append(\"<a id='link\" + i + \"' href='#title\" + i + \"' title='\" + current.attr(\"tagName\") + \"'>\" + current.html() + \"</a></br>\");\n",
    "                \n",
    "});"
   ]
  },
  {
   "cell_type": "markdown",
   "id": "7a5a31cc",
   "metadata": {},
   "source": [
    "<div id=\"toc\">\n",
    "    <h1>Header 1</h1>\n",
    "\n",
    "What is Lorem Ipsum?\n",
    "Lorem Ipsum is simply dummy text of the printing and typesetting industry. Lorem Ipsum has been the industry's standard dummy text ever since the 1500s, when an unknown printer took a galley of type and scrambled it to make a type specimen book. It has survived not only five centuries, but also the leap into electronic typesetting, remaining essentially unchanged. It was popularised in the 1960s with the release of Letraset sheets containing Lorem Ipsum passages, and more recently with desktop publishing software like Aldus PageMaker including versions of Lorem Ipsum.\n",
    "</div>\n",
    "Why do we use it?\n",
    "It is a long established fact that a reader will be distracted by the readable content of a page when looking at its layout. The point of using Lorem Ipsum is that it has a more-or-less normal distribution of letters, as opposed to using 'Content here, content here', making it look like readable English. Many desktop publishing packages and web page editors now use Lorem Ipsum as their default model text, and a search for 'lorem ipsum' will uncover many web sites still in their infancy. Various versions have evolved over the years, sometimes by accident, sometimes on purpose (injected humour and the like).\n",
    "<h2>Header 2</h2>\n",
    "</div>\n",
    "\n",
    "## Header 2\n",
    "### Header 3\n",
    "#### Header 4"
   ]
  },
  {
   "cell_type": "markdown",
   "id": "c9706c99",
   "metadata": {},
   "source": [
    "Body is here"
   ]
  },
  {
   "cell_type": "code",
   "execution_count": 21,
   "id": "776ab37b",
   "metadata": {},
   "outputs": [
    {
     "name": "stdout",
     "output_type": "stream",
     "text": [
      "hi A >= B\n"
     ]
    }
   ],
   "source": [
    "print(\"hi A >= B\")"
   ]
  },
  {
   "cell_type": "markdown",
   "id": "54d6ce3c",
   "metadata": {},
   "source": [
    "<span class='h1'>1 Quick Brown Fox</span>"
   ]
  },
  {
   "cell_type": "markdown",
   "id": "9509e619",
   "metadata": {},
   "source": [
    "<span class='h2'>2 Quick Brown Fox</span>"
   ]
  },
  {
   "cell_type": "markdown",
   "id": "de473a2c",
   "metadata": {},
   "source": [
    "\n",
    "<span class='h3'>3 Quick Brown Fox</span>"
   ]
  },
  {
   "cell_type": "code",
   "execution_count": 9,
   "id": "6a61d2b3",
   "metadata": {},
   "outputs": [
    {
     "name": "stdout",
     "output_type": "stream",
     "text": [
      "B bigger\n"
     ]
    }
   ],
   "source": [
    "a = 10\n",
    "b = 15\n",
    "if(a >= b):\n",
    "    print('A bigger')\n",
    "else: \n",
    "    print('B bigger')"
   ]
  },
  {
   "cell_type": "markdown",
   "id": "dc5888b8",
   "metadata": {},
   "source": [
    "<h3 class='h3'>A <= B </h3>"
   ]
  },
  {
   "cell_type": "code",
   "execution_count": 4,
   "id": "46131f20",
   "metadata": {},
   "outputs": [
    {
     "data": {
      "application/javascript": [
       "$(\"h1, h2\").each(function(i) {\n",
       "                var current = $(this);\n",
       "                current.attr(\"id\", \"title\" + i);\n",
       "\n",
       "                /* Create a empty markdown cell (press m) and type:\n",
       "                <div id=\"toc\">\n",
       "                </div>\n",
       "                */\n",
       "\n",
       "                $(\"#toc\").append(\"<a id='link\" + i + \"' href='#title\" + i + \"' title='\" + current.attr(\"tagName\") + \"'>\" + current.html() + \"</a></br>\");\n",
       "                \n",
       "});\n"
      ],
      "text/plain": [
       "<IPython.core.display.Javascript object>"
      ]
     },
     "metadata": {},
     "output_type": "display_data"
    }
   ],
   "source": [
    "%%javascript\n",
    "$(\"h1, h2\").each(function(i) {\n",
    "                var current = $(this);\n",
    "                current.attr(\"id\", \"title\" + i);\n",
    "\n",
    "                /* Create a empty markdown cell (press m) and type:\n",
    "                <div id=\"toc\">\n",
    "                </div>\n",
    "                */\n",
    "\n",
    "                $(\"#toc\").append(\"<a id='link\" + i + \"' href='#title\" + i + \"' title='\" + current.attr(\"tagName\") + \"'>\" + current.html() + \"</a></br>\");\n",
    "                \n",
    "});"
   ]
  },
  {
   "cell_type": "code",
   "execution_count": 5,
   "id": "c8d9542a",
   "metadata": {},
   "outputs": [
    {
     "data": {
      "application/javascript": [
       "alert(\"hello, world!\");\n"
      ],
      "text/plain": [
       "<IPython.core.display.Javascript object>"
      ]
     },
     "metadata": {},
     "output_type": "display_data"
    }
   ],
   "source": [
    "%%js\n",
    "alert(\"hello, world!\");"
   ]
  },
  {
   "cell_type": "markdown",
   "id": "d2af6e1b",
   "metadata": {},
   "source": []
  },
  {
   "cell_type": "markdown",
   "id": "7319a735",
   "metadata": {},
   "source": [
    "<h1>1. Introduction</h1>"
   ]
  },
  {
   "cell_type": "markdown",
   "id": "6e336c91",
   "metadata": {},
   "source": [
    "<body> \n",
    "    Lorem Ipsum is simply dummy text of the printing and typesetting industry. Lorem Ipsum has been the industry's standard dummy text ever since the 1500s, when an unknown printer took a galley of type and scrambled it to make a type specimen book. It has survived not only five centuries, but also the leap into electronic typesetting, remaining essentially unchanged. It was popularised in the 1960s with the release of Letraset sheets containing Lorem Ipsum passages, and more recently with desktop publishing software like Aldus PageMaker including versions of Lorem Ipsum.\n",
    "    </body>\n",
    "    \n",
    "    Lorem Ipsum is simply dummy text of the printing and typesetting industry. Lorem Ipsum has been the industry's standard dummy text ever since the 1500s, when an unknown printer took a galley of type and scrambled it to make a type specimen book. It has survived not only five centuries, but also the leap into electronic typesetting, remaining essentially unchanged. It was popularised in the 1960s with the release of Letraset sheets containing Lorem Ipsum passages, and more recently with desktop publishing software like Aldus PageMaker including versions of Lorem Ipsum.\n",
    "\n",
    "    \n",
    "    \n",
    "   > Lorem Ipsum is simply dummy text of the printing and typesetting industry. Lorem Ipsum has been the industry's standard dummy text ever since the 1500s, when an unknown printer took a galley of type and scrambled it to make a type specimen book. It has survived not only five centuries, but also the leap into electronic typesetting, remaining essentially unchanged. It was popularised in the 1960s with the release of Letraset sheets containing Lorem Ipsum passages, and more recently with desktop publishing software like Aldus PageMaker including versions of Lorem Ipsum.\n"
   ]
  },
  {
   "cell_type": "markdown",
   "id": "b3ff2143",
   "metadata": {},
   "source": [
    "<h2>1.1 About the Data</h2>"
   ]
  },
  {
   "cell_type": "markdown",
   "id": "4cb6da9c",
   "metadata": {},
   "source": [
    "<h2>1.2 History</h2>"
   ]
  },
  {
   "cell_type": "markdown",
   "id": "a385d999",
   "metadata": {},
   "source": [
    "<h2>1.3 Definitions</h2>"
   ]
  },
  {
   "cell_type": "markdown",
   "id": "9a8ce097",
   "metadata": {},
   "source": [
    "<h3>1.3.1 Wow, so deep</h3>"
   ]
  },
  {
   "cell_type": "markdown",
   "id": "cf1d1f59",
   "metadata": {},
   "source": [
    "<h1>2. Preliminary Look</h1>"
   ]
  },
  {
   "cell_type": "markdown",
   "id": "9d2371d7",
   "metadata": {},
   "source": [
    "<body>\n",
    "Lorem Ipsum is simply dummy text of the printing and typesetting industry. Lorem Ipsum has been the industry's standard dummy text ever since the 1500s, when an unknown printer took a galley of type and scrambled it to make a type specimen book. It has survived not only five centuries, but also the leap into electronic typesetting, remaining essentially unchanged. It was popularised in the 1960s with the release of Letraset sheets containing Lorem Ipsum passages, and more recently with desktop publishing software like Aldus PageMaker including versions of Lorem Ipsum.\n",
    "Lorem Ipsum is simply dummy text of the printing and typesetting industry. Lorem Ipsum has been the industry's standard dummy text ever since the 1500s, when an unknown printer took a galley of type and scrambled it to make a type specimen book. It has survived not only five centuries, but also the leap into electronic typesetting, remaining essentially unchanged. It was popularised in the 1960s with the release of Letraset sheets containing Lorem Ipsum passages, and more recently with desktop publishing software like Aldus PageMaker including versions of Lorem Ipsum.\n",
    "</body>"
   ]
  },
  {
   "cell_type": "code",
   "execution_count": 40,
   "id": "c077e2a4",
   "metadata": {},
   "outputs": [
    {
     "name": "stdout",
     "output_type": "stream",
     "text": [
      "A B\n"
     ]
    }
   ],
   "source": [
    "print('A B')"
   ]
  },
  {
   "cell_type": "code",
   "execution_count": 41,
   "id": "36cbe0bf",
   "metadata": {},
   "outputs": [
    {
     "name": "stdout",
     "output_type": "stream",
     "text": [
      "A B\n"
     ]
    }
   ],
   "source": [
    "print('A B')"
   ]
  },
  {
   "cell_type": "code",
   "execution_count": 42,
   "id": "f1fe59ae",
   "metadata": {},
   "outputs": [
    {
     "name": "stdout",
     "output_type": "stream",
     "text": [
      "A B\n"
     ]
    }
   ],
   "source": [
    "print('A B')"
   ]
  },
  {
   "cell_type": "code",
   "execution_count": 43,
   "id": "7948f205",
   "metadata": {},
   "outputs": [
    {
     "name": "stdout",
     "output_type": "stream",
     "text": [
      "A B\n"
     ]
    }
   ],
   "source": [
    "print('A B')"
   ]
  },
  {
   "cell_type": "code",
   "execution_count": 44,
   "id": "1727e709",
   "metadata": {},
   "outputs": [
    {
     "name": "stdout",
     "output_type": "stream",
     "text": [
      "A B\n"
     ]
    }
   ],
   "source": [
    "print('A B')"
   ]
  },
  {
   "cell_type": "markdown",
   "id": "3aa7344e",
   "metadata": {},
   "source": [
    "<div class='toc'>\n",
    "    <h1>Table of contents</h1>\n",
    "    <body>Body here</body><br>\n",
    "    <body>Body here</body><br>\n",
    "    <body>Body here</body><br>\n",
    "</div>"
   ]
  },
  {
   "cell_type": "code",
   "execution_count": null,
   "id": "44828d29",
   "metadata": {},
   "outputs": [],
   "source": []
  },
  {
   "cell_type": "code",
   "execution_count": 64,
   "id": "4b1ff48a",
   "metadata": {},
   "outputs": [
    {
     "data": {
      "text/html": [
       "<style>@import url('https://fonts.googleapis.com/css2?family=Open+Sans:ital,wght@0,300;0,400;0,500;0,600;0,700;0,800;1,300;1,400;1,500;1,600;1,700;1,800&display=swap');\n",
       "\n",
       "@font-face {\n",
       "  font-family: 'Fira Code';\n",
       "  src: url(\"https://cdn.rawgit.com/dunovank/jupyter-themes/1e851888/jupyterthemes/fonts/monospace/firacode/firacode.otf\") format(\"opentype\");\n",
       "}\n",
       "\n",
       ".CodeMirror {\n",
       "  font-family: 'Fira Code';\n",
       "  font-variant-ligatures: initial;\n",
       "}\n",
       "\n",
       ".cm-string {\n",
       "    font-variant-ligatures: none;\n",
       "}\n",
       "\n",
       "@font-face {\n",
       "    font-family: 'anonymous_probold';\n",
       "    src: url('fonts/anonymous_pro_b-webfont.woff2') format('woff2'),\n",
       "         url('fonts/anonymous_pro_b-webfont.woff') format('woff');\n",
       "    font-weight: normal;\n",
       "    font-style: normal;\n",
       "\n",
       "}\n",
       "\n",
       "@font-face {\n",
       "    font-family: 'anonymous_probold_italic';\n",
       "    src: url('fonts/anonymous_pro_bi-webfont.woff2') format('woff2'),\n",
       "         url('fonts/anonymous_pro_bi-webfont.woff') format('woff');\n",
       "    font-weight: normal;\n",
       "    font-style: normal;\n",
       "\n",
       "}\n",
       "\n",
       "@font-face {\n",
       "    font-family: 'anonymous_proitalic';\n",
       "    src: url('fonts/anonymous_pro_i-webfont.woff2') format('woff2'),\n",
       "         url('fonts/anonymous_pro_i-webfont.woff') format('woff');\n",
       "    font-weight: normal;\n",
       "    font-style: normal;\n",
       "\n",
       "}\n",
       "\n",
       "@font-face {\n",
       "    font-family: 'anonymous_proregular';\n",
       "    src: url('fonts/anonymous_pro-webfont.woff2') format('woff2'),\n",
       "         url('fonts/anonymous_pro-webfont.woff') format('woff');\n",
       "    font-weight: normal;\n",
       "    font-style: normal;\n",
       "\n",
       "}\n",
       "\n",
       "@font-face {\n",
       "  font-family: 'Fira Code';\n",
       "  src: url('woff2/FiraCode-Light.woff2') format('woff2'),\n",
       "    url(\"woff/FiraCode-Light.woff\") format(\"woff\");\n",
       "  font-weight: 300;\n",
       "  font-style: normal;\n",
       "}\n",
       "\n",
       "@font-face {\n",
       "  font-family: 'Fira Code';\n",
       "  src: url('woff2/FiraCode-Regular.woff2') format('woff2'),\n",
       "    url(\"woff/FiraCode-Regular.woff\") format(\"woff\");\n",
       "  font-weight: 400;\n",
       "  font-style: normal;\n",
       "}\n",
       "\n",
       "@font-face {\n",
       "  font-family: 'Fira Code';\n",
       "  src: url('woff2/FiraCode-Medium.woff2') format('woff2'),\n",
       "    url(\"woff/FiraCode-Medium.woff\") format(\"woff\");\n",
       "  font-weight: 500;\n",
       "  font-style: normal;\n",
       "}\n",
       "\n",
       "@font-face {\n",
       "  font-family: 'Fira Code';\n",
       "  src: url('woff2/FiraCode-SemiBold.woff2') format('woff2'),\n",
       "    url(\"woff/FiraCode-SemiBold.woff\") format(\"woff\");\n",
       "  font-weight: 600;\n",
       "  font-style: normal;\n",
       "}\n",
       "\n",
       "@font-face {\n",
       "  font-family: 'Fira Code';\n",
       "  src: url('woff2/FiraCode-Bold.woff2') format('woff2'),\n",
       "    url(\"woff/FiraCode-Bold.woff\") format(\"woff\");\n",
       "  font-weight: 700;\n",
       "  font-style: normal;\n",
       "}\n",
       "\n",
       "@font-face {\n",
       "  font-family: 'Fira Code VF';\n",
       "  src: url('woff2/FiraCode-VF.woff2') format('woff2-variations'),\n",
       "       url('woff/FiraCode-VF.woff') format('woff-variations');\n",
       "  /* font-weight requires a range: https://developer.mozilla.org/en-US/docs/Web/CSS/CSS_Fonts/Variable_Fonts_Guide#Using_a_variable_font_font-face_changes */\n",
       "  font-weight: 300 700;\n",
       "  font-style: normal;\n",
       "}\n",
       "\n",
       "\n",
       "/*-------------JUPYTER LOGO -----------------------------*/\n",
       "\n",
       "#ipython_notebook img{                                                                                        \n",
       "    display:block;\n",
       "    background: url(\"img/logo.png\") no-repeat;\n",
       "    background-size: contain;\n",
       "    width: 233px;\n",
       "    height: 33px;\n",
       "    padding-left: 233px;\n",
       "    -moz-box-sizing: border-box;\n",
       "    box-sizing: border-box;\n",
       "}\n",
       "/*-------------JUPYTER BLOCK STYLES-----------------------------*/\n",
       ".filename {\n",
       "    font-family: \"Open Sans\", sans-serif;\n",
       "    font-variant: small-caps;\n",
       "    letter-spacing: 0.08em;\n",
       "\tfont-style: bold;\n",
       "    -webkit-font-smoothing: antialiased;\n",
       "    -moz-osx-font-smoothing: grayscale;\n",
       "    text-rendering: optimizeLegibility;\n",
       "}\n",
       "\n",
       ".text_cell, .text_cell_render {\n",
       "    font-family: \"Open Sans\", sans-serif;\n",
       "    font-size: 16px;\n",
       "    line-height:1.4em;\n",
       "    padding-left:1em;\n",
       "    padding-right:3em;\n",
       "    -webkit-font-smoothing: antialiased;\n",
       "    -moz-osx-font-smoothing: grayscale;\n",
       "    text-rendering: optimizeLegibility;\n",
       "    font-variant-ligatures: contextual no-historical-ligatures common-ligatures;\n",
       "}\n",
       "\n",
       "\n",
       ".code_cell {  /* Area containing both code and output */\n",
       "    font-family: \"Fira Code\",\"anonymous_proregular\", monospace;\n",
       "    background-color:#F9FBFC;\n",
       "    border-radius: 0.8em;\n",
       "    padding: 1em;\n",
       "}\n",
       "\n",
       "/*-------------HEADER BLOCK STYLES-----------------------------*/\n",
       "\n",
       "h1, h2, h3, h4 {\n",
       "\tfont-family: \"OpenSans\", Verdana, sans-serif;\n",
       "\tfont-style: bold;\n",
       "\ttext-align:justify;\n",
       "}\n",
       "\n",
       "h1 {\n",
       "\tbackground-color:#93DEE4;\n",
       "\tcolor:#101010;\n",
       "\tfont-size:300%;\n",
       "\tfont-weight:600;\n",
       "\tpadding: 30px;\n",
       "}\n",
       "\n",
       "h2 {\t\n",
       "\tbackground-color:#C3EAF0;\n",
       "\tcolor:#101010;\n",
       "\tfont-size:200%;\n",
       "\tfont-weight:300;\n",
       "\tpadding: 20px;\n",
       "\t/*text-decoration: underline overline;\n",
       "\tbackground-image: linear-gradient(90deg, #fff, #93DEE4);\n",
       "\tposition: static;*/\n",
       "}\n",
       "\n",
       "\n",
       "h3 {\n",
       "\tcolor:#101010;\n",
       "\tfont-size:150%;\n",
       "\tfont-weight:150;\n",
       "\tpadding: 10px;\n",
       "\t/*text-decoration: underline overline;\n",
       "\tbackground-image: linear-gradient(90deg, #fff, #93DEE4);\n",
       "\tposition: static;*/\n",
       "}\n",
       "\n",
       "\n",
       "body {\n",
       "\tfont-family: \"OpenSans\",Verdana, sans-serif;\n",
       "\tfont-style: normal;\n",
       "\ttext-align:justify;\n",
       "\tpadding: 10px;\n",
       "}\n",
       "\n",
       "\n",
       "/*-------------TABLE OF CONTENT STYLES-----------------------------*/\n",
       "\n",
       ".toc-list, .toc-list ol {\n",
       "  list-style-type: none;\n",
       "}\n",
       "\n",
       ".toc-list {\n",
       "  padding: 0;\n",
       "}\n",
       "\n",
       ".toc-list ol {\n",
       "  padding-inline-start: 2ch;\n",
       "}</style>"
      ],
      "text/plain": [
       "<IPython.core.display.HTML object>"
      ]
     },
     "execution_count": 64,
     "metadata": {},
     "output_type": "execute_result"
    }
   ],
   "source": [
    "from IPython.display import HTML\n",
    "HTML('<style>{}</style>'.format(open('custom/styles.css').read()))"
   ]
  },
  {
   "cell_type": "markdown",
   "id": "292af02e",
   "metadata": {},
   "source": [
    "<div class='h3'>\n",
    "    <ol class=\"toc-list\" role=\"list\">\n",
    "      <li>\n",
    "        <a href=\"#link_to_heading\">\n",
    "          <span class=\"title\">Chapter or subsection title</span>\n",
    "          <span class=\"page\">Page 1</span>\n",
    "        </a>\n",
    "        <ol role=\"list\">\n",
    "         hELO\n",
    "        </ol>\n",
    "      </li>\n",
    "    </ol>\n",
    "</div>"
   ]
  },
  {
   "cell_type": "code",
   "execution_count": null,
   "id": "682d3b23",
   "metadata": {},
   "outputs": [],
   "source": []
  }
 ],
 "metadata": {
  "kernelspec": {
   "display_name": "Python 3 (ipykernel)",
   "language": "python",
   "name": "python3"
  },
  "language_info": {
   "codemirror_mode": {
    "name": "ipython",
    "version": 3
   },
   "file_extension": ".py",
   "mimetype": "text/x-python",
   "name": "python",
   "nbconvert_exporter": "python",
   "pygments_lexer": "ipython3",
   "version": "3.9.13"
  }
 },
 "nbformat": 4,
 "nbformat_minor": 5
}
